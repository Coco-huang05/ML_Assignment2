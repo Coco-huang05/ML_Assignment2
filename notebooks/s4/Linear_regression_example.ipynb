{
 "cells": [
  {
   "cell_type": "code",
   "execution_count": 5,
   "metadata": {
    "id": "xwFyEsosINqT"
   },
   "outputs": [],
   "source": [
    "import numpy as np\n",
    "import pandas as pd"
   ]
  },
  {
   "cell_type": "code",
   "execution_count": 6,
   "metadata": {
    "id": "pKewSQysItJ-"
   },
   "outputs": [],
   "source": [
    "# https://www.statsmodels.org/stable/index.html\n",
    "import statsmodels.api as sm"
   ]
  },
  {
   "cell_type": "code",
   "execution_count": 7,
   "metadata": {
    "id": "Lz-DyAtNWsJR"
   },
   "outputs": [],
   "source": [
    "# Download Dataset from https://www.dropbox.com/scl/fo/v71bqw2zowgla028cwdh0/AEfemP4C8qQ2X5tTNXMCqUQ/Session%203?dl=0&preview=educationWage.xlsx&rlkey=rlkgo6o58ex2kjbiv4b7cr9nj&subfolder_nav_tracking=1\n",
    "# and add it to colab"
   ]
  },
  {
   "cell_type": "code",
   "execution_count": 8,
   "metadata": {
    "id": "0zM8FGMJXJ70"
   },
   "outputs": [],
   "source": [
    "educationWageDf = pd.read_excel(\"./educationWage.xlsx\")"
   ]
  },
  {
   "cell_type": "code",
   "execution_count": 10,
   "metadata": {
    "id": "wsIgDGYcXT_z"
   },
   "outputs": [
    {
     "data": {
      "text/html": [
       "<div>\n",
       "<style scoped>\n",
       "    .dataframe tbody tr th:only-of-type {\n",
       "        vertical-align: middle;\n",
       "    }\n",
       "\n",
       "    .dataframe tbody tr th {\n",
       "        vertical-align: top;\n",
       "    }\n",
       "\n",
       "    .dataframe thead th {\n",
       "        text-align: right;\n",
       "    }\n",
       "</style>\n",
       "<table border=\"1\" class=\"dataframe\">\n",
       "  <thead>\n",
       "    <tr style=\"text-align: right;\">\n",
       "      <th></th>\n",
       "      <th>Education</th>\n",
       "      <th>Wage</th>\n",
       "    </tr>\n",
       "  </thead>\n",
       "  <tbody>\n",
       "    <tr>\n",
       "      <th>0</th>\n",
       "      <td>20</td>\n",
       "      <td>160</td>\n",
       "    </tr>\n",
       "    <tr>\n",
       "      <th>1</th>\n",
       "      <td>18</td>\n",
       "      <td>120</td>\n",
       "    </tr>\n",
       "    <tr>\n",
       "      <th>2</th>\n",
       "      <td>12</td>\n",
       "      <td>70</td>\n",
       "    </tr>\n",
       "    <tr>\n",
       "      <th>3</th>\n",
       "      <td>16</td>\n",
       "      <td>100</td>\n",
       "    </tr>\n",
       "    <tr>\n",
       "      <th>4</th>\n",
       "      <td>10</td>\n",
       "      <td>65</td>\n",
       "    </tr>\n",
       "    <tr>\n",
       "      <th>5</th>\n",
       "      <td>23</td>\n",
       "      <td>160</td>\n",
       "    </tr>\n",
       "    <tr>\n",
       "      <th>6</th>\n",
       "      <td>2</td>\n",
       "      <td>40</td>\n",
       "    </tr>\n",
       "    <tr>\n",
       "      <th>7</th>\n",
       "      <td>5</td>\n",
       "      <td>55</td>\n",
       "    </tr>\n",
       "  </tbody>\n",
       "</table>\n",
       "</div>"
      ],
      "text/plain": [
       "   Education  Wage\n",
       "0         20   160\n",
       "1         18   120\n",
       "2         12    70\n",
       "3         16   100\n",
       "4         10    65\n",
       "5         23   160\n",
       "6          2    40\n",
       "7          5    55"
      ]
     },
     "execution_count": 10,
     "metadata": {},
     "output_type": "execute_result"
    }
   ],
   "source": [
    "educationWageDf"
   ]
  },
  {
   "cell_type": "code",
   "execution_count": 11,
   "metadata": {
    "id": "mE_jpf50ZSQ3"
   },
   "outputs": [
    {
     "data": {
      "text/plain": [
       "pandas.core.frame.DataFrame"
      ]
     },
     "execution_count": 11,
     "metadata": {},
     "output_type": "execute_result"
    }
   ],
   "source": [
    "type(educationWageDf)"
   ]
  },
  {
   "cell_type": "code",
   "execution_count": 12,
   "metadata": {
    "id": "sPAT8difZamr"
   },
   "outputs": [
    {
     "data": {
      "text/plain": [
       "(0    20\n",
       " 1    18\n",
       " 2    12\n",
       " 3    16\n",
       " 4    10\n",
       " 5    23\n",
       " 6     2\n",
       " 7     5\n",
       " Name: Education, dtype: int64,\n",
       " pandas.core.series.Series)"
      ]
     },
     "execution_count": 12,
     "metadata": {},
     "output_type": "execute_result"
    }
   ],
   "source": [
    "educationWageDf[\"Education\"], type(educationWageDf[\"Education\"])"
   ]
  },
  {
   "cell_type": "code",
   "execution_count": 13,
   "metadata": {
    "id": "L0294jIPa23E"
   },
   "outputs": [
    {
     "data": {
      "text/plain": [
       "<Axes: xlabel='Education', ylabel='Wage'>"
      ]
     },
     "execution_count": 13,
     "metadata": {},
     "output_type": "execute_result"
    },
    {
     "data": {
      "image/png": "[encoded data removed]",
      "text/plain": [
       "<Figure size 640x480 with 1 Axes>"
      ]
     },
     "metadata": {},
     "output_type": "display_data"
    }
   ],
   "source": [
    "educationWageDf.plot.scatter(\n",
    "    x = 'Education',\n",
    "    y = 'Wage',\n",
    "    xlim = (0, 25),\n",
    "    ylim = (0, 180),\n",
    "    grid = True\n",
    ")\n"
   ]
  },
  {
   "cell_type": "markdown",
   "metadata": {
    "id": "70sdSooaXIP6"
   },
   "source": [
    "\n",
    "\n",
    "\n",
    "\n",
    "\n",
    "\n",
    "\n",
    "\n",
    "\n"
   ]
  },
  {
   "cell_type": "markdown",
   "metadata": {
    "id": "5kGS_KvQxDnB"
   },
   "source": []
  },
  {
   "cell_type": "code",
   "execution_count": null,
   "metadata": {
    "id": "CAzIv4nUbLNs"
   },
   "outputs": [],
   "source": []
  },
  {
   "cell_type": "code",
   "execution_count": 14,
   "metadata": {
    "id": "izbdCJO6bGgr"
   },
   "outputs": [
    {
     "data": {
      "text/plain": [
       "(0    20\n",
       " 1    18\n",
       " 2    12\n",
       " 3    16\n",
       " 4    10\n",
       " 5    23\n",
       " 6     2\n",
       " 7     5\n",
       " Name: Education, dtype: int64,\n",
       " pandas.core.series.Series)"
      ]
     },
     "execution_count": 14,
     "metadata": {},
     "output_type": "execute_result"
    }
   ],
   "source": [
    "educationWageDf[\"Education\"], type(educationWageDf[\"Education\"])"
   ]
  },
  {
   "cell_type": "code",
   "execution_count": 15,
   "metadata": {
    "id": "qZTj0erZbNa4"
   },
   "outputs": [
    {
     "data": {
      "text/plain": [
       "(   const  Education\n",
       " 0    1.0         20\n",
       " 1    1.0         18\n",
       " 2    1.0         12\n",
       " 3    1.0         16\n",
       " 4    1.0         10\n",
       " 5    1.0         23\n",
       " 6    1.0          2\n",
       " 7    1.0          5,\n",
       " pandas.core.frame.DataFrame)"
      ]
     },
     "execution_count": 15,
     "metadata": {},
     "output_type": "execute_result"
    }
   ],
   "source": [
    "sm.add_constant(educationWageDf[\"Education\"]), type(sm.add_constant(educationWageDf[\"Education\"]))"
   ]
  },
  {
   "cell_type": "code",
   "execution_count": 16,
   "metadata": {
    "id": "3CZ6j-I1XH59"
   },
   "outputs": [],
   "source": [
    "educationWageLiniarRgressionModel = sm.OLS(\n",
    "  educationWageDf[\"Wage\"],\n",
    "  sm.add_constant(educationWageDf[\"Education\"])\n",
    ")\n"
   ]
  },
  {
   "cell_type": "code",
   "execution_count": 17,
   "metadata": {
    "id": "OfbVQb61inFN"
   },
   "outputs": [],
   "source": [
    "educationWageLiniarRgressionModelFit = educationWageLiniarRgressionModel.fit()"
   ]
  },
  {
   "cell_type": "code",
   "execution_count": 18,
   "metadata": {
    "id": "QjoNi0wP_MiT"
   },
   "outputs": [
    {
     "name": "stdout",
     "output_type": "stream",
     "text": [
      "                            OLS Regression Results                            \n",
      "==============================================================================\n",
      "Dep. Variable:                   Wage   R-squared:                       0.906\n",
      "Model:                            OLS   Adj. R-squared:                  0.890\n",
      "Method:                 Least Squares   F-statistic:                     57.64\n",
      "Date:                Wed, 28 May 2025   Prob (F-statistic):           0.000272\n",
      "Time:                        11:37:00   Log-Likelihood:                -32.114\n",
      "No. Observations:                   8   AIC:                             68.23\n",
      "Df Residuals:                       6   BIC:                             68.39\n",
      "Df Model:                           1                                         \n",
      "Covariance Type:            nonrobust                                         \n",
      "==============================================================================\n",
      "                 coef    std err          t      P>|t|      [0.025      0.975]\n",
      "------------------------------------------------------------------------------\n",
      "const         16.1358     11.887      1.357      0.223     -12.950      45.221\n",
      "Education      6.0464      0.796      7.592      0.000       4.098       7.995\n",
      "==============================================================================\n",
      "Omnibus:                        0.619   Durbin-Watson:                   0.926\n",
      "Prob(Omnibus):                  0.734   Jarque-Bera (JB):                0.522\n",
      "Skew:                           0.213   Prob(JB):                        0.770\n",
      "Kurtosis:                       1.823   Cond. No.                         32.5\n",
      "==============================================================================\n",
      "\n",
      "Notes:\n",
      "[1] Standard Errors assume that the covariance matrix of the errors is correctly specified.\n"
     ]
    },
    {
     "name": "stderr",
     "output_type": "stream",
     "text": [
      "/Users/jason/.jjDataDir/~~asdf_SARAVA/installs/python/3.13.3/lib/python3.13/site-packages/scipy/stats/_axis_nan_policy.py:430: UserWarning: `kurtosistest` p-value may be inaccurate with fewer than 20 observations; only n=8 observations were given.\n",
      "  return hypotest_fun_in(*args, **kwds)\n"
     ]
    }
   ],
   "source": [
    "print(educationWageLiniarRgressionModelFit.summary())"
   ]
  },
  {
   "cell_type": "code",
   "execution_count": 19,
   "metadata": {
    "id": "TYSiZnRL_tIx"
   },
   "outputs": [
    {
     "data": {
      "text/plain": [
       "const        16.135762\n",
       "Education     6.046358\n",
       "dtype: float64"
      ]
     },
     "execution_count": 19,
     "metadata": {},
     "output_type": "execute_result"
    }
   ],
   "source": [
    "educationWageLiniarRgressionModelFit.params"
   ]
  },
  {
   "cell_type": "code",
   "execution_count": null,
   "metadata": {
    "id": "gCeVAjLWd1zt"
   },
   "outputs": [],
   "source": [
    "# wage = b0 + b1 * Education"
   ]
  },
  {
   "cell_type": "code",
   "execution_count": 20,
   "metadata": {
    "id": "rgycwEPzibXT"
   },
   "outputs": [
    {
     "data": {
      "text/plain": [
       "0    137.062914\n",
       "1    124.970199\n",
       "2     88.692053\n",
       "3    112.877483\n",
       "4     76.599338\n",
       "5    155.201987\n",
       "6     28.228477\n",
       "7     46.367550\n",
       "dtype: float64"
      ]
     },
     "execution_count": 20,
     "metadata": {},
     "output_type": "execute_result"
    }
   ],
   "source": [
    "predictedWage = educationWageLiniarRgressionModelFit.predict(sm.add_constant(educationWageDf[\"Education\"]))\n",
    "predictedWage"
   ]
  },
  {
   "cell_type": "code",
   "execution_count": 21,
   "metadata": {},
   "outputs": [
    {
     "data": {
      "text/html": [
       "<div>\n",
       "<style scoped>\n",
       "    .dataframe tbody tr th:only-of-type {\n",
       "        vertical-align: middle;\n",
       "    }\n",
       "\n",
       "    .dataframe tbody tr th {\n",
       "        vertical-align: top;\n",
       "    }\n",
       "\n",
       "    .dataframe thead th {\n",
       "        text-align: right;\n",
       "    }\n",
       "</style>\n",
       "<table border=\"1\" class=\"dataframe\">\n",
       "  <thead>\n",
       "    <tr style=\"text-align: right;\">\n",
       "      <th></th>\n",
       "      <th>Education</th>\n",
       "      <th>Wage</th>\n",
       "    </tr>\n",
       "  </thead>\n",
       "  <tbody>\n",
       "    <tr>\n",
       "      <th>0</th>\n",
       "      <td>20</td>\n",
       "      <td>160</td>\n",
       "    </tr>\n",
       "    <tr>\n",
       "      <th>1</th>\n",
       "      <td>18</td>\n",
       "      <td>120</td>\n",
       "    </tr>\n",
       "    <tr>\n",
       "      <th>2</th>\n",
       "      <td>12</td>\n",
       "      <td>70</td>\n",
       "    </tr>\n",
       "    <tr>\n",
       "      <th>3</th>\n",
       "      <td>16</td>\n",
       "      <td>100</td>\n",
       "    </tr>\n",
       "    <tr>\n",
       "      <th>4</th>\n",
       "      <td>10</td>\n",
       "      <td>65</td>\n",
       "    </tr>\n",
       "    <tr>\n",
       "      <th>5</th>\n",
       "      <td>23</td>\n",
       "      <td>160</td>\n",
       "    </tr>\n",
       "    <tr>\n",
       "      <th>6</th>\n",
       "      <td>2</td>\n",
       "      <td>40</td>\n",
       "    </tr>\n",
       "    <tr>\n",
       "      <th>7</th>\n",
       "      <td>5</td>\n",
       "      <td>55</td>\n",
       "    </tr>\n",
       "  </tbody>\n",
       "</table>\n",
       "</div>"
      ],
      "text/plain": [
       "   Education  Wage\n",
       "0         20   160\n",
       "1         18   120\n",
       "2         12    70\n",
       "3         16   100\n",
       "4         10    65\n",
       "5         23   160\n",
       "6          2    40\n",
       "7          5    55"
      ]
     },
     "execution_count": 21,
     "metadata": {},
     "output_type": "execute_result"
    }
   ],
   "source": [
    "educationWageDf"
   ]
  },
  {
   "cell_type": "code",
   "execution_count": 25,
   "metadata": {
    "id": "BNQ2w_HAeGGq"
   },
   "outputs": [
    {
     "data": {
      "text/html": [
       "<div>\n",
       "<style scoped>\n",
       "    .dataframe tbody tr th:only-of-type {\n",
       "        vertical-align: middle;\n",
       "    }\n",
       "\n",
       "    .dataframe tbody tr th {\n",
       "        vertical-align: top;\n",
       "    }\n",
       "\n",
       "    .dataframe thead th {\n",
       "        text-align: right;\n",
       "    }\n",
       "</style>\n",
       "<table border=\"1\" class=\"dataframe\">\n",
       "  <thead>\n",
       "    <tr style=\"text-align: right;\">\n",
       "      <th></th>\n",
       "      <th>Education</th>\n",
       "      <th>Wage</th>\n",
       "      <th>predictedWage</th>\n",
       "    </tr>\n",
       "  </thead>\n",
       "  <tbody>\n",
       "    <tr>\n",
       "      <th>0</th>\n",
       "      <td>20</td>\n",
       "      <td>160</td>\n",
       "      <td>137.062914</td>\n",
       "    </tr>\n",
       "    <tr>\n",
       "      <th>1</th>\n",
       "      <td>18</td>\n",
       "      <td>120</td>\n",
       "      <td>124.970199</td>\n",
       "    </tr>\n",
       "    <tr>\n",
       "      <th>2</th>\n",
       "      <td>12</td>\n",
       "      <td>70</td>\n",
       "      <td>88.692053</td>\n",
       "    </tr>\n",
       "    <tr>\n",
       "      <th>3</th>\n",
       "      <td>16</td>\n",
       "      <td>100</td>\n",
       "      <td>112.877483</td>\n",
       "    </tr>\n",
       "    <tr>\n",
       "      <th>4</th>\n",
       "      <td>10</td>\n",
       "      <td>65</td>\n",
       "      <td>76.599338</td>\n",
       "    </tr>\n",
       "    <tr>\n",
       "      <th>5</th>\n",
       "      <td>23</td>\n",
       "      <td>160</td>\n",
       "      <td>155.201987</td>\n",
       "    </tr>\n",
       "    <tr>\n",
       "      <th>6</th>\n",
       "      <td>2</td>\n",
       "      <td>40</td>\n",
       "      <td>28.228477</td>\n",
       "    </tr>\n",
       "    <tr>\n",
       "      <th>7</th>\n",
       "      <td>5</td>\n",
       "      <td>55</td>\n",
       "      <td>46.367550</td>\n",
       "    </tr>\n",
       "  </tbody>\n",
       "</table>\n",
       "</div>"
      ],
      "text/plain": [
       "   Education  Wage  predictedWage\n",
       "0         20   160     137.062914\n",
       "1         18   120     124.970199\n",
       "2         12    70      88.692053\n",
       "3         16   100     112.877483\n",
       "4         10    65      76.599338\n",
       "5         23   160     155.201987\n",
       "6          2    40      28.228477\n",
       "7          5    55      46.367550"
      ]
     },
     "execution_count": 25,
     "metadata": {},
     "output_type": "execute_result"
    }
   ],
   "source": [
    "educationWageDf['predictedWage'] = predictedWage\n",
    "educationWageDf"
   ]
  },
  {
   "cell_type": "code",
   "execution_count": 27,
   "metadata": {
    "id": "ooBEi1bmBE1F"
   },
   "outputs": [
    {
     "data": {
      "text/plain": [
       "array([106.83112583])"
      ]
     },
     "execution_count": 27,
     "metadata": {},
     "output_type": "execute_result"
    }
   ],
   "source": [
    "testPredict = educationWageLiniarRgressionModelFit.predict([[1,15]])\n",
    "testPredict"
   ]
  },
  {
   "cell_type": "code",
   "execution_count": 28,
   "metadata": {
    "id": "hfmtTSDajJa1"
   },
   "outputs": [],
   "source": [
    "import matplotlib.pyplot as plt\n"
   ]
  },
  {
   "cell_type": "code",
   "execution_count": 29,
   "metadata": {
    "id": "FYmVGYFxjRJg"
   },
   "outputs": [
    {
     "data": {
      "image/png": "[encoded data removed]",
      "text/plain": [
       "<Figure size 800x800 with 1 Axes>"
      ]
     },
     "metadata": {},
     "output_type": "display_data"
    }
   ],
   "source": [
    "# Plotting\n",
    "plt.figure(\n",
    "  figsize=(8, 8)\n",
    ")\n",
    "\n",
    "plt.scatter(\n",
    "  educationWageDf[\"Education\"],\n",
    "  educationWageDf[\"Wage\"],\n",
    "  color='blue',\n",
    "  alpha=0.9,\n",
    "  label='Data Points - scatter',\n",
    ")\n",
    "\n",
    "plt.plot(\n",
    "  educationWageDf[\"Education\"],\n",
    "  educationWageDf[\"predictedWage\"],\n",
    "  color='red',\n",
    "  label='OLS Regression - predictedWage'\n",
    ")\n",
    "plt.title('Education Level vs. Wage with OLS Regression')\n",
    "plt.xlabel('Education Level(yr)')\n",
    "plt.ylabel('Wage K')\n",
    "plt.legend()\n",
    "plt.grid(True)\n",
    "\n",
    "plt.gca().set_xlim([0, 25])\n",
    "plt.gca().set_ylim([0, 180])\n",
    "\n",
    "\n",
    "plt.show()"
   ]
  },
  {
   "cell_type": "markdown",
   "metadata": {
    "id": "trx50k1tBX0s"
   },
   "source": [
    "# Another way"
   ]
  },
  {
   "cell_type": "code",
   "execution_count": null,
   "metadata": {
    "id": "5G0wXkAFIxMd"
   },
   "outputs": [],
   "source": [
    "X = np.array([20, 18, 12, 16, 10, 23, 2, 5])\n",
    "y = np.array([160, 120, 70 , 100, 65, 160, 40, 55])\n",
    "X, y"
   ]
  },
  {
   "cell_type": "code",
   "execution_count": null,
   "metadata": {
    "id": "YTcd15wbK9AA"
   },
   "outputs": [],
   "source": [
    "X = sm.add_constant(X)"
   ]
  },
  {
   "cell_type": "code",
   "execution_count": null,
   "metadata": {
    "id": "Oksgjk2MKjL_"
   },
   "outputs": [],
   "source": [
    "X"
   ]
  },
  {
   "cell_type": "code",
   "execution_count": null,
   "metadata": {
    "id": "foBX_PxyJJj8"
   },
   "outputs": [],
   "source": [
    "model = sm.OLS(y, X).fit()\n"
   ]
  },
  {
   "cell_type": "code",
   "execution_count": null,
   "metadata": {
    "id": "Da-TIkZpJMBB"
   },
   "outputs": [],
   "source": [
    "print(model.summary())"
   ]
  },
  {
   "cell_type": "code",
   "execution_count": null,
   "metadata": {
    "id": "8Evg53IMJQQD"
   },
   "outputs": [],
   "source": [
    "print(\"Coefficients:\", model.params)"
   ]
  },
  {
   "cell_type": "code",
   "execution_count": null,
   "metadata": {
    "id": "Csteg6CiOiSv"
   },
   "outputs": [],
   "source": [
    "predictions = model.predict([[1, 5], [1, 15]])\n",
    "predictions"
   ]
  },
  {
   "cell_type": "code",
   "execution_count": null,
   "metadata": {
    "id": "xxZNODO1PC1m"
   },
   "outputs": [],
   "source": [
    "def predicWage(intercept, slope, yearsOfExperience):\n",
    "  return intercept + (slope * yearsOfExperience)"
   ]
  },
  {
   "cell_type": "code",
   "execution_count": null,
   "metadata": {
    "id": "8lYfVWyNPdLc"
   },
   "outputs": [],
   "source": [
    "predicWage(model.params[0], model.params[1], 5)"
   ]
  },
  {
   "cell_type": "code",
   "execution_count": null,
   "metadata": {
    "id": "YnJzK9USPkcC"
   },
   "outputs": [],
   "source": [
    "predicWage(model.params[0], model.params[1], 15)"
   ]
  },
  {
   "cell_type": "markdown",
   "metadata": {
    "id": "UxR96NeFLG9p"
   },
   "source": [
    "# Another way"
   ]
  },
  {
   "cell_type": "code",
   "execution_count": null,
   "metadata": {
    "id": "y6-07nV0JoBa"
   },
   "outputs": [],
   "source": [
    "from sklearn.linear_model import LinearRegression"
   ]
  },
  {
   "cell_type": "code",
   "execution_count": null,
   "metadata": {
    "id": "DJKKcxAFBlZi"
   },
   "outputs": [],
   "source": [
    "educationWageDf"
   ]
  },
  {
   "cell_type": "code",
   "execution_count": null,
   "metadata": {
    "id": "0GMyNZTyB0tz"
   },
   "outputs": [],
   "source": [
    "educationWageLiniarRgressionModel2 = LinearRegression()"
   ]
  },
  {
   "cell_type": "code",
   "execution_count": null,
   "metadata": {
    "id": "CMrTd4NsC3Am"
   },
   "outputs": [],
   "source": [
    "educationWageDf[\"Education\"], type(educationWageDf[\"Education\"])"
   ]
  },
  {
   "cell_type": "code",
   "execution_count": null,
   "metadata": {
    "id": "Flw3PPJKC0eI"
   },
   "outputs": [],
   "source": [
    "educationWageDf[[\"Education\"]], type(educationWageDf[[\"Education\"]])"
   ]
  },
  {
   "cell_type": "code",
   "execution_count": null,
   "metadata": {
    "id": "ox_p7rYYB8nA"
   },
   "outputs": [],
   "source": [
    "educationWageLiniarRgressionModel2Fit = educationWageLiniarRgressionModel2.fit(\n",
    "    educationWageDf[[\"Education\"]],\n",
    "    educationWageDf[\"Wage\"]\n",
    ")"
   ]
  },
  {
   "cell_type": "code",
   "execution_count": null,
   "metadata": {
    "id": "RxNZRBlhKpu5"
   },
   "outputs": [],
   "source": [
    "# Print the intercept and coefficient\n",
    "print(\"Intercept:\", educationWageLiniarRgressionModel2Fit.intercept_)\n",
    "print(\"Coefficient:\", educationWageLiniarRgressionModel2Fit.coef_[0])"
   ]
  },
  {
   "cell_type": "code",
   "execution_count": null,
   "metadata": {
    "id": "xtqZ6ZRaQBgK"
   },
   "outputs": [],
   "source": [
    "predictions1 = educationWageLiniarRgressionModel2Fit.predict(np.array([[5], [15]]))\n",
    "predictions1"
   ]
  },
  {
   "cell_type": "code",
   "execution_count": null,
   "metadata": {
    "id": "e2cyeBEUhzx6"
   },
   "outputs": [],
   "source": []
  },
  {
   "cell_type": "code",
   "execution_count": null,
   "metadata": {
    "id": "BVJslxRTiCxx"
   },
   "outputs": [],
   "source": []
  },
  {
   "cell_type": "code",
   "execution_count": null,
   "metadata": {
    "id": "ssUOw-bWQTMP"
   },
   "outputs": [],
   "source": [
    "predicWage(educationWageLiniarRgressionModel2Fit.intercept_, educationWageLiniarRgressionModel2Fit.coef_[0], 5)"
   ]
  },
  {
   "cell_type": "code",
   "execution_count": null,
   "metadata": {
    "id": "8cM6wdOdQYGK"
   },
   "outputs": [],
   "source": [
    "predicWage(educationWageLiniarRgressionModel2Fit.intercept_, educationWageLiniarRgressionModel2Fit.coef_[0], 15)"
   ]
  },
  {
   "cell_type": "code",
   "execution_count": null,
   "metadata": {
    "id": "uurMTqQpDi_A"
   },
   "outputs": [],
   "source": [
    "predictedWage2 = educationWageLiniarRgressionModel2Fit.predict(educationWageDf[[\"Education\"]])\n",
    "educationWageDf['predictedWage2'] = predictedWage2\n",
    "educationWageDf"
   ]
  },
  {
   "cell_type": "code",
   "execution_count": null,
   "metadata": {
    "id": "30mmVCEuD4sx"
   },
   "outputs": [],
   "source": [
    "# Plotting\n",
    "plt.figure(\n",
    "  figsize=(8, 8)\n",
    ")\n",
    "\n",
    "plt.scatter(\n",
    "  educationWageDf[\"Education\"],\n",
    "  educationWageDf[\"Wage\"],\n",
    "  color='blue',\n",
    "  alpha=0.9,\n",
    "  label='Data Points - scatter',\n",
    ")\n",
    "\n",
    "plt.plot(\n",
    "  educationWageDf[\"Education\"],\n",
    "  educationWageDf[\"predictedWage\"],\n",
    "  color='red',\n",
    "  label='OLS Regression - predictedWage'\n",
    ")\n",
    "plt.plot(\n",
    "  educationWageDf[\"Education\"],\n",
    "  educationWageDf[\"predictedWage2\"],\n",
    "  color='black',\n",
    "  label='sklearn  Regression - predictedWage'\n",
    ")\n",
    "plt.title('Education Level vs. Wage with OLS Regression')\n",
    "plt.xlabel('Education Level(yr)')\n",
    "plt.ylabel('Wage K')\n",
    "plt.legend()\n",
    "plt.grid(True)\n",
    "\n",
    "plt.gca().set_xlim([0, 25])\n",
    "plt.gca().set_ylim([0, 180])\n",
    "\n",
    "\n",
    "equation = f'Wage = {educationWageLiniarRgressionModel2Fit.coef_[0]:.2f} * Education + {educationWageLiniarRgressionModel2Fit.intercept_:.2f}'\n",
    "\n",
    "\n",
    "plt.text(\n",
    "    10, 120,\n",
    "    equation,\n",
    "    horizontalalignment='center',\n",
    "    verticalalignment='center',\n",
    "    fontsize=12,\n",
    "    color=\"green\",\n",
    "    bbox=dict(facecolor='white', alpha=0.5)\n",
    ")\n",
    "\n",
    "\n",
    "\n",
    "plt.show()"
   ]
  },
  {
   "cell_type": "markdown",
   "metadata": {
    "id": "lNvoCcWRL1tW"
   },
   "source": [
    "# Real dataset"
   ]
  },
  {
   "cell_type": "code",
   "execution_count": null,
   "metadata": {
    "id": "KHPW5DNvMUdz"
   },
   "outputs": [],
   "source": [
    "import pandas as pd"
   ]
  },
  {
   "cell_type": "markdown",
   "metadata": {
    "id": "gIC1S6uQQi_t"
   },
   "source": [
    "Download it from [here](https://www.dropbox.com/scl/fi/1sc8ojfezlbrcaje42w0n/College.xlsx?rlkey=i3starhohiwkua8ekbjk3nb92&st=yd75jyvp&dl=0)"
   ]
  },
  {
   "cell_type": "code",
   "execution_count": null,
   "metadata": {
    "id": "Ksf536HkMQu5"
   },
   "outputs": [],
   "source": [
    "collegeDf = pd.read_excel(\"./College.xlsx\")"
   ]
  },
  {
   "cell_type": "code",
   "execution_count": null,
   "metadata": {
    "id": "Rjwma_7DNFzP"
   },
   "outputs": [],
   "source": [
    "collegeDf.head()"
   ]
  },
  {
   "cell_type": "code",
   "execution_count": null,
   "metadata": {
    "id": "E9I8JZkuqHYJ"
   },
   "outputs": [],
   "source": [
    "collegeDf.tail()"
   ]
  },
  {
   "cell_type": "code",
   "execution_count": null,
   "metadata": {
    "id": "RVAeXlkzNSWi"
   },
   "outputs": [],
   "source": [
    "collegeDf.shape"
   ]
  },
  {
   "cell_type": "code",
   "execution_count": null,
   "metadata": {
    "id": "l-IUyXkCNXTx"
   },
   "outputs": [],
   "source": [
    "collegeDf.size"
   ]
  },
  {
   "cell_type": "code",
   "execution_count": null,
   "metadata": {
    "id": "8qveUcTkNav_"
   },
   "outputs": [],
   "source": [
    "collegeDf.describe()"
   ]
  },
  {
   "cell_type": "code",
   "execution_count": null,
   "metadata": {
    "id": "HPJ285H3Jx7p"
   },
   "outputs": [],
   "source": [
    "# Plotting\n",
    "plt.figure(\n",
    "  figsize=(8, 8)\n",
    ")\n",
    "\n",
    "plt.scatter(\n",
    "  collegeDf[\"Cost\"],\n",
    "  collegeDf[\"Earnings\"],\n",
    "  color='blue',\n",
    "  alpha=0.9,\n",
    "  label='Data Points - scatter',\n",
    ")\n",
    "\n",
    "plt.xlabel('Cost')\n",
    "plt.ylabel('Earnings')\n",
    "plt.legend()\n",
    "plt.grid(True)\n",
    "\n",
    "\n",
    "\n",
    "plt.show()"
   ]
  },
  {
   "cell_type": "code",
   "execution_count": null,
   "metadata": {
    "id": "Puh0-DhgKp9i"
   },
   "outputs": [],
   "source": [
    "sm.add_constant(collegeDf['Cost']), type(sm.add_constant(collegeDf['Cost']))"
   ]
  },
  {
   "cell_type": "code",
   "execution_count": null,
   "metadata": {
    "id": "54YBn53VNxQk"
   },
   "outputs": [],
   "source": [
    "earningOthersOlsModelFit1 = sm.OLS(\n",
    "  collegeDf[\"Earnings\"],\n",
    "  sm.add_constant(collegeDf['Cost'])\n",
    ").fit()"
   ]
  },
  {
   "cell_type": "code",
   "execution_count": null,
   "metadata": {
    "id": "KbZxiP7zNyoY"
   },
   "outputs": [],
   "source": [
    "print(earningOthersOlsModelFit1.summary())"
   ]
  },
  {
   "cell_type": "code",
   "execution_count": null,
   "metadata": {
    "id": "Efg5OIl6KwDz"
   },
   "outputs": [],
   "source": [
    "predictedEarning1 = earningOthersOlsModelFit1.predict(sm.add_constant(collegeDf[\"Cost\"]))\n",
    "collegeDf['predictedEarning1'] = predictedEarning1\n",
    "collegeDf"
   ]
  },
  {
   "cell_type": "code",
   "execution_count": null,
   "metadata": {
    "id": "HWPp6ZYeLA3W"
   },
   "outputs": [],
   "source": [
    "plt.figure(\n",
    "  figsize=(8, 8)\n",
    ")\n",
    "\n",
    "plt.scatter(\n",
    "  collegeDf[\"Cost\"],\n",
    "  collegeDf[\"Earnings\"],\n",
    "  color='blue',\n",
    "  alpha=0.9,\n",
    "  label='Data Points - scatter',\n",
    ")\n",
    "\n",
    "\n",
    "plt.plot(\n",
    "  collegeDf[\"Cost\"],\n",
    "  collegeDf[\"predictedEarning1\"],\n",
    "  color='red',\n",
    "  label='OLS 1'\n",
    ")\n",
    "\n",
    "plt.legend()\n",
    "\n",
    "plt.show()"
   ]
  },
  {
   "cell_type": "code",
   "execution_count": null,
   "metadata": {
    "id": "VO6Yv3bgLyRv"
   },
   "outputs": [],
   "source": [
    "collegeDf"
   ]
  },
  {
   "cell_type": "code",
   "execution_count": null,
   "metadata": {
    "id": "at1I6sLoMJFu"
   },
   "outputs": [],
   "source": [
    "fig = plt.figure()\n",
    "ax = plt.axes(projection =\"3d\")\n",
    "\n",
    "# Creating plot\n",
    "ax.scatter3D(\n",
    "  collegeDf[\"Cost\"],\n",
    "  collegeDf[\"Grad\"],\n",
    "  collegeDf[\"Earnings\"],\n",
    "  color = \"green\"\n",
    ")\n",
    "plt.title(\"Cost,Grad -> Earnings\")\n",
    "ax.set_xlabel('Cost')\n",
    "ax.set_ylabel('Grad')\n",
    "ax.set_zlabel('Earnings')\n",
    "\n",
    "# show plot\n",
    "plt.show()"
   ]
  },
  {
   "cell_type": "code",
   "execution_count": null,
   "metadata": {
    "id": "HzQFLcchNaDt"
   },
   "outputs": [],
   "source": [
    "collegeDf[['Cost', 'Grad']], type(collegeDf[['Cost', 'Grad']])"
   ]
  },
  {
   "cell_type": "code",
   "execution_count": null,
   "metadata": {
    "id": "qBInUi_bsQ_x"
   },
   "outputs": [],
   "source": [
    "sm.add_constant(collegeDf[['Cost', 'Grad']]), type(sm.add_constant(collegeDf[['Cost', 'Grad']]))"
   ]
  },
  {
   "cell_type": "code",
   "execution_count": null,
   "metadata": {
    "id": "PEQQ-E8dNQ9x"
   },
   "outputs": [],
   "source": [
    "earningOthersOlsModelFit2 = sm.OLS(\n",
    "  collegeDf[\"Earnings\"],\n",
    "  sm.add_constant(collegeDf[['Cost', 'Grad']])\n",
    ").fit()"
   ]
  },
  {
   "cell_type": "code",
   "execution_count": null,
   "metadata": {
    "id": "ETve670aOTNZ"
   },
   "outputs": [],
   "source": [
    "print(earningOthersOlsModelFit2.summary())"
   ]
  },
  {
   "cell_type": "code",
   "execution_count": null,
   "metadata": {
    "id": "Dn6EX65kOdtu"
   },
   "outputs": [],
   "source": [
    "predictedEarning2 = earningOthersOlsModelFit2.predict(\n",
    "  sm.add_constant(collegeDf[['Cost', 'Grad']])\n",
    ")\n",
    "collegeDf['predictedEarning2'] = predictedEarning2\n",
    "collegeDf"
   ]
  },
  {
   "cell_type": "code",
   "execution_count": null,
   "metadata": {
    "id": "wZw7IpfVRHJx"
   },
   "outputs": [],
   "source": [
    "# if 'google.colab' in str(get_ipython()):\n",
    "#         get_ipython().run_line_magic('matplotlib', 'inline')\n",
    "\n",
    "# %matplotlib notebook\n",
    "# # %matplotlib notebook\n",
    "%matplotlib inline"
   ]
  },
  {
   "cell_type": "code",
   "execution_count": null,
   "metadata": {
    "id": "vSt3zKpiPYfJ"
   },
   "outputs": [],
   "source": [
    "# Extracting coefficients\n",
    "intercept = earningOthersOlsModelFit2.params['const']\n",
    "coef_cost = earningOthersOlsModelFit2.params['Cost']\n",
    "coef_grad = earningOthersOlsModelFit2.params['Grad']\n",
    "\n",
    "# Create 3D grid for plotting\n",
    "cost_range = np.linspace(collegeDf['Cost'].min(), collegeDf['Cost'].max(), 100)\n",
    "grad_range = np.linspace(collegeDf['Grad'].min(), collegeDf['Grad'].max(), 100)\n",
    "cost_grid, grad_grid = np.meshgrid(cost_range, grad_range)\n",
    "\n",
    "# Calculate predicted earnings for each combination of cost and grad\n",
    "earnings_predicted = intercept + coef_cost * cost_grid + coef_grad * grad_grid\n",
    "\n",
    "\n",
    "\n",
    "\n",
    "fig = plt.figure()\n",
    "ax = plt.axes(projection =\"3d\")\n",
    "\n",
    "# Scatter plot of the actual data points\n",
    "ax.scatter(collegeDf['Cost'], collegeDf['Grad'], collegeDf['Earnings'], color='blue', label='Actual Earnings')\n",
    "\n",
    "# Plotting the fitted plane\n",
    "ax.plot_surface(cost_grid, grad_grid, earnings_predicted, color='red', alpha=0.5, label='Fitted Plane')\n",
    "\n",
    "# Labeling axes\n",
    "ax.set_xlabel('Cost')\n",
    "ax.set_ylabel('Grad')\n",
    "ax.set_zlabel('Earnings')\n",
    "\n",
    "\n",
    "\n",
    "plt.title('Cost and Grad vs. Earnings with Fitted Plane')\n",
    "\n",
    "# Rotating the plot\n",
    "# ax.view_init(elev=0, azim=0)  # Set the elevation and azimuth angles\n",
    "plt.show()\n",
    "\n"
   ]
  },
  {
   "cell_type": "code",
   "execution_count": null,
   "metadata": {
    "id": "FMzTsqooWmsR"
   },
   "outputs": [],
   "source": [
    "collegeDf"
   ]
  },
  {
   "cell_type": "code",
   "execution_count": null,
   "metadata": {
    "id": "fyEd2awfWvHR"
   },
   "outputs": [],
   "source": [
    "earningOthersOlsModelFit3 = sm.OLS(\n",
    "  collegeDf[\"Earnings\"],\n",
    "  sm.add_constant(collegeDf[['Cost', 'Grad','Debt']])\n",
    ").fit()"
   ]
  },
  {
   "cell_type": "code",
   "execution_count": null,
   "metadata": {
    "id": "vmMvLc-nW1i0"
   },
   "outputs": [],
   "source": [
    "print(earningOthersOlsModelFit3.summary())"
   ]
  },
  {
   "cell_type": "code",
   "execution_count": null,
   "metadata": {
    "id": "-hrTLW63W8Dd"
   },
   "outputs": [],
   "source": [
    "print(earningOthersOlsModelFit2.summary())"
   ]
  },
  {
   "cell_type": "code",
   "execution_count": null,
   "metadata": {
    "id": "BgNn0qPaYGK7"
   },
   "outputs": [],
   "source": [
    "predictedEarning3 = earningOthersOlsModelFit3.predict(\n",
    "  sm.add_constant(collegeDf[['Cost', 'Grad', 'Debt']])\n",
    ")\n",
    "collegeDf['predictedEarning3'] = predictedEarning3\n",
    "collegeDf"
   ]
  }
 ],
 "metadata": {
  "colab": {
   "private_outputs": true,
   "provenance": []
  },
  "kernelspec": {
   "display_name": "Python 3 (ipykernel)",
   "language": "python",
   "name": "python3"
  },
  "language_info": {
   "codemirror_mode": {
    "name": "ipython",
    "version": 3
   },
   "file_extension": ".py",
   "mimetype": "text/x-python",
   "name": "python",
   "nbconvert_exporter": "python",
   "pygments_lexer": "ipython3",
   "version": "3.13.3"
  }
 },
 "nbformat": 4,
 "nbformat_minor": 4
}
