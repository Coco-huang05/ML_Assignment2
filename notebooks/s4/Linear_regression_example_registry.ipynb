{
 "cells": [
  {
   "cell_type": "code",
   "execution_count": null,
   "metadata": {
    "id": "xwFyEsosINqT"
   },
   "outputs": [],
   "source": [
    "import numpy as np\n",
    "import pandas as pd"
   ]
  },
  {
   "cell_type": "code",
   "execution_count": null,
   "metadata": {},
   "outputs": [],
   "source": [
    "import warnings\n",
    "warnings.filterwarnings(\"ignore\")"
   ]
  },
  {
   "cell_type": "code",
   "execution_count": null,
   "metadata": {},
   "outputs": [],
   "source": [
    "from functools import partial"
   ]
  },
  {
   "cell_type": "code",
   "execution_count": null,
   "metadata": {},
   "outputs": [],
   "source": [
    "from dotenv import load_dotenv\n",
    "\n",
    "from pathlib import Path\n",
    "\n",
    "env_path = Path(\"../../.env-live\")\n",
    "\n",
    "\n",
    "if env_path.exists():\n",
    "    load_dotenv(dotenv_path=env_path)"
   ]
  },
  {
   "cell_type": "code",
   "execution_count": null,
   "metadata": {},
   "outputs": [],
   "source": [
    "from jrjModelRegistry import handleDashboard, jrjRouterModelRegistry\n",
    "from jrjModelRegistry.jrjModelRegistry import registerAJrjModel"
   ]
  },
  {
   "cell_type": "code",
   "execution_count": null,
   "metadata": {
    "id": "pKewSQysItJ-"
   },
   "outputs": [],
   "source": [
    "# https://www.statsmodels.org/stable/index.html\n",
    "import statsmodels.api as sm"
   ]
  },
  {
   "cell_type": "code",
   "execution_count": null,
   "metadata": {
    "id": "Lz-DyAtNWsJR"
   },
   "outputs": [],
   "source": [
    "# Download Dataset from https://www.dropbox.com/scl/fo/v71bqw2zowgla028cwdh0/AEfemP4C8qQ2X5tTNXMCqUQ/Session%203?dl=0&preview=educationWage.xlsx&rlkey=rlkgo6o58ex2kjbiv4b7cr9nj&subfolder_nav_tracking=1\n",
    "# and add it to colab"
   ]
  },
  {
   "cell_type": "code",
   "execution_count": null,
   "metadata": {
    "id": "0zM8FGMJXJ70"
   },
   "outputs": [],
   "source": [
    "educationWageDf = pd.read_excel(\"./educationWage.xlsx\")"
   ]
  },
  {
   "cell_type": "code",
   "execution_count": null,
   "metadata": {
    "id": "wsIgDGYcXT_z"
   },
   "outputs": [],
   "source": [
    "educationWageDf"
   ]
  },
  {
   "cell_type": "code",
   "execution_count": null,
   "metadata": {
    "id": "mE_jpf50ZSQ3"
   },
   "outputs": [],
   "source": [
    "type(educationWageDf)"
   ]
  },
  {
   "cell_type": "code",
   "execution_count": null,
   "metadata": {
    "id": "sPAT8difZamr"
   },
   "outputs": [],
   "source": [
    "educationWageDf[\"Education\"], type(educationWageDf[\"Education\"])"
   ]
  },
  {
   "cell_type": "code",
   "execution_count": null,
   "metadata": {
    "id": "L0294jIPa23E"
   },
   "outputs": [],
   "source": [
    "educationWageDf.plot.scatter(\n",
    "    x = 'Education',\n",
    "    y = 'Wage',\n",
    "    xlim = (0, 25),\n",
    "    ylim = (0, 180),\n",
    "    grid = True\n",
    ")\n"
   ]
  },
  {
   "cell_type": "markdown",
   "metadata": {
    "id": "70sdSooaXIP6"
   },
   "source": [
    "\n",
    "\n",
    "\n",
    "\n",
    "\n",
    "\n",
    "\n",
    "\n",
    "\n"
   ]
  },
  {
   "cell_type": "code",
   "execution_count": null,
   "metadata": {
    "id": "izbdCJO6bGgr"
   },
   "outputs": [],
   "source": [
    "educationWageDf[\"Education\"], type(educationWageDf[\"Education\"])"
   ]
  },
  {
   "cell_type": "code",
   "execution_count": null,
   "metadata": {
    "id": "qZTj0erZbNa4"
   },
   "outputs": [],
   "source": [
    "sm.add_constant(educationWageDf[\"Education\"]), type(sm.add_constant(educationWageDf[\"Education\"]))"
   ]
  },
  {
   "cell_type": "code",
   "execution_count": null,
   "metadata": {},
   "outputs": [],
   "source": [
    "sm.add_constant(educationWageDf[\"Education\"])"
   ]
  },
  {
   "cell_type": "code",
   "execution_count": null,
   "metadata": {
    "id": "3CZ6j-I1XH59"
   },
   "outputs": [],
   "source": [
    "educationWageLiniarRgressionModel = sm.OLS(\n",
    "  educationWageDf[\"Wage\"],\n",
    "  sm.add_constant(educationWageDf[\"Education\"])\n",
    ")\n"
   ]
  },
  {
   "cell_type": "code",
   "execution_count": null,
   "metadata": {
    "id": "OfbVQb61inFN"
   },
   "outputs": [],
   "source": [
    "educationWageLiniarRgressionModelFit = educationWageLiniarRgressionModel.fit()"
   ]
  },
  {
   "cell_type": "code",
   "execution_count": null,
   "metadata": {
    "id": "QjoNi0wP_MiT"
   },
   "outputs": [],
   "source": [
    "print(educationWageLiniarRgressionModelFit.summary())"
   ]
  },
  {
   "cell_type": "code",
   "execution_count": null,
   "metadata": {
    "id": "TYSiZnRL_tIx"
   },
   "outputs": [],
   "source": [
    "educationWageLiniarRgressionModelFit.params"
   ]
  },
  {
   "cell_type": "code",
   "execution_count": null,
   "metadata": {
    "id": "gCeVAjLWd1zt"
   },
   "outputs": [],
   "source": [
    "# wage = b0 + b1 * Education"
   ]
  },
  {
   "cell_type": "code",
   "execution_count": null,
   "metadata": {
    "id": "rgycwEPzibXT"
   },
   "outputs": [],
   "source": [
    "predictedWage = educationWageLiniarRgressionModelFit.predict(sm.add_constant(educationWageDf[\"Education\"]))\n",
    "predictedWage"
   ]
  },
  {
   "cell_type": "code",
   "execution_count": null,
   "metadata": {},
   "outputs": [],
   "source": [
    "educationWageLiniarRgressionModelSampleData = {\n",
    "    \"Education\": [20, 25]\n",
    "}"
   ]
  },
  {
   "cell_type": "code",
   "execution_count": null,
   "metadata": {},
   "outputs": [],
   "source": [
    "def educationWageLiniarRgressionModelTransformer(dataForTransfer = None):\n",
    "    import pandas as pd\n",
    "    import statsmodels.api as sm\n",
    "    dfTransformer = pd.DataFrame(dataForTransfer)\n",
    "    dfTransformer = sm.add_constant(dfTransformer[['Education']])\n",
    "    return dfTransformer"
   ]
  },
  {
   "cell_type": "code",
   "execution_count": null,
   "metadata": {},
   "outputs": [],
   "source": [
    "educationWageLiniarRgressionModelSampleTransformed = educationWageLiniarRgressionModelTransformer(educationWageLiniarRgressionModelSampleData)\n",
    "educationWageLiniarRgressionModelSampleTransformed"
   ]
  },
  {
   "cell_type": "code",
   "execution_count": null,
   "metadata": {},
   "outputs": [],
   "source": [
    "educationWageLiniarRgressionModelFit.predict(educationWageLiniarRgressionModelSampleTransformed)"
   ]
  },
  {
   "cell_type": "code",
   "execution_count": null,
   "metadata": {},
   "outputs": [],
   "source": [
    "def educationWageLiniarRgressionModelMainPredictor(self, transformedData):\n",
    "    return self.predict(transformedData)\n",
    "educationWageLiniarRgressionModelFit.mainPredictor = partial(educationWageLiniarRgressionModelMainPredictor, educationWageLiniarRgressionModelFit)\n",
    "educationWageLiniarRgressionModelFit.transformer = educationWageLiniarRgressionModelTransformer"
   ]
  },
  {
   "cell_type": "code",
   "execution_count": null,
   "metadata": {},
   "outputs": [],
   "source": [
    "test1 = educationWageLiniarRgressionModelFit.transformer(educationWageLiniarRgressionModelSampleData)\n",
    "test1"
   ]
  },
  {
   "cell_type": "code",
   "execution_count": null,
   "metadata": {},
   "outputs": [],
   "source": [
    "educationWageLiniarRgressionModelFit.mainPredictor(test1)"
   ]
  },
  {
   "cell_type": "code",
   "execution_count": null,
   "metadata": {},
   "outputs": [],
   "source": [
    "educationWageLiniarRgressionModelMetadata = {\n",
    "    \"modelName\":f\"educationWageLiniarRgression\",\n",
    "    \"version\":\"1.0.1\",\n",
    "    \"params\": educationWageLiniarRgressionModelFit.params.to_dict(),\n",
    "    \"score\": float(educationWageLiniarRgressionModelFit.rsquared),\n",
    "    \"modelLibraray\": 'sm.OLS',\n",
    "    \"libraryMetadata\": {\n",
    "        \"pvalues\": educationWageLiniarRgressionModelFit.pvalues.to_dict(),\n",
    "        \"r_squared\": float(educationWageLiniarRgressionModelFit.rsquared),\n",
    "        \"adj_r_squared\": float(educationWageLiniarRgressionModelFit.rsquared_adj)\n",
    "    },\n",
    "\n",
    "    \"sampleData\": {\n",
    "        \"dataForTransfer\": educationWageLiniarRgressionModelSampleData\n",
    "    }\n",
    "}\n",
    "educationWageLiniarRgressionModelMetadata"
   ]
  },
  {
   "cell_type": "code",
   "execution_count": null,
   "metadata": {},
   "outputs": [],
   "source": [
    "registerAJrjModel(educationWageLiniarRgressionModelFit, educationWageLiniarRgressionModelMetadata)"
   ]
  },
  {
   "cell_type": "code",
   "execution_count": null,
   "metadata": {},
   "outputs": [],
   "source": []
  },
  {
   "cell_type": "code",
   "execution_count": null,
   "metadata": {
    "id": "BNQ2w_HAeGGq"
   },
   "outputs": [],
   "source": [
    "educationWageDf['predictedWage'] = predictedWage\n",
    "educationWageDf"
   ]
  },
  {
   "cell_type": "code",
   "execution_count": null,
   "metadata": {},
   "outputs": [],
   "source": []
  },
  {
   "cell_type": "code",
   "execution_count": null,
   "metadata": {
    "id": "ooBEi1bmBE1F"
   },
   "outputs": [],
   "source": [
    "testPredict = educationWageLiniarRgressionModelFit.predict([[1,15]])\n",
    "testPredict"
   ]
  },
  {
   "cell_type": "code",
   "execution_count": null,
   "metadata": {
    "id": "hfmtTSDajJa1"
   },
   "outputs": [],
   "source": [
    "import matplotlib.pyplot as plt\n"
   ]
  },
  {
   "cell_type": "code",
   "execution_count": null,
   "metadata": {
    "id": "FYmVGYFxjRJg"
   },
   "outputs": [],
   "source": [
    "# Plotting\n",
    "plt.figure(\n",
    "  figsize=(8, 8)\n",
    ")\n",
    "\n",
    "plt.scatter(\n",
    "  educationWageDf[\"Education\"],\n",
    "  educationWageDf[\"Wage\"],\n",
    "  color='blue',\n",
    "  alpha=0.9,\n",
    "  label='Data Points - scatter',\n",
    ")\n",
    "\n",
    "plt.plot(\n",
    "  educationWageDf[\"Education\"],\n",
    "  educationWageDf[\"predictedWage\"],\n",
    "  color='red',\n",
    "  label='OLS Regression - predictedWage'\n",
    ")\n",
    "plt.title('Education Level vs. Wage with OLS Regression')\n",
    "plt.xlabel('Education Level(yr)')\n",
    "plt.ylabel('Wage K')\n",
    "plt.legend()\n",
    "plt.grid(True)\n",
    "\n",
    "plt.gca().set_xlim([0, 25])\n",
    "plt.gca().set_ylim([0, 180])\n",
    "\n",
    "\n",
    "plt.show()"
   ]
  },
  {
   "cell_type": "markdown",
   "metadata": {
    "id": "trx50k1tBX0s"
   },
   "source": [
    "# Another way"
   ]
  },
  {
   "cell_type": "code",
   "execution_count": null,
   "metadata": {
    "id": "5G0wXkAFIxMd"
   },
   "outputs": [],
   "source": [
    "X = np.array([20, 18, 12, 16, 10, 23, 2, 5,])\n",
    "y = np.array([160, 120, 70 , 100, 65, 160, 40, 55])\n",
    "X, y"
   ]
  },
  {
   "cell_type": "code",
   "execution_count": null,
   "metadata": {
    "id": "YTcd15wbK9AA"
   },
   "outputs": [],
   "source": [
    "X = sm.add_constant(X)"
   ]
  },
  {
   "cell_type": "code",
   "execution_count": null,
   "metadata": {
    "id": "Oksgjk2MKjL_"
   },
   "outputs": [],
   "source": [
    "X"
   ]
  },
  {
   "cell_type": "code",
   "execution_count": null,
   "metadata": {
    "id": "foBX_PxyJJj8"
   },
   "outputs": [],
   "source": [
    "model = sm.OLS(y, X).fit()\n"
   ]
  },
  {
   "cell_type": "code",
   "execution_count": null,
   "metadata": {
    "id": "Da-TIkZpJMBB"
   },
   "outputs": [],
   "source": [
    "print(model.summary())"
   ]
  },
  {
   "cell_type": "code",
   "execution_count": null,
   "metadata": {
    "id": "8Evg53IMJQQD"
   },
   "outputs": [],
   "source": [
    "print(\"Coefficients:\", model.params)"
   ]
  },
  {
   "cell_type": "code",
   "execution_count": null,
   "metadata": {
    "id": "Csteg6CiOiSv"
   },
   "outputs": [],
   "source": [
    "predictions = model.predict([[1, 5], [1, 15]])\n",
    "predictions"
   ]
  },
  {
   "cell_type": "code",
   "execution_count": null,
   "metadata": {
    "id": "xxZNODO1PC1m"
   },
   "outputs": [],
   "source": [
    "def predicWage(intercept, slope, yearsOfExperience):\n",
    "  return intercept + (slope * yearsOfExperience)"
   ]
  },
  {
   "cell_type": "code",
   "execution_count": null,
   "metadata": {
    "id": "8lYfVWyNPdLc"
   },
   "outputs": [],
   "source": [
    "predicWage(model.params[0], model.params[1], 5)"
   ]
  },
  {
   "cell_type": "code",
   "execution_count": null,
   "metadata": {
    "id": "YnJzK9USPkcC"
   },
   "outputs": [],
   "source": [
    "predicWage(model.params[0], model.params[1], 15)"
   ]
  },
  {
   "cell_type": "markdown",
   "metadata": {
    "id": "UxR96NeFLG9p"
   },
   "source": [
    "# Another way"
   ]
  },
  {
   "cell_type": "code",
   "execution_count": null,
   "metadata": {
    "id": "y6-07nV0JoBa"
   },
   "outputs": [],
   "source": [
    "from sklearn.linear_model import LinearRegression"
   ]
  },
  {
   "cell_type": "code",
   "execution_count": null,
   "metadata": {
    "id": "DJKKcxAFBlZi"
   },
   "outputs": [],
   "source": [
    "educationWageDf"
   ]
  },
  {
   "cell_type": "code",
   "execution_count": null,
   "metadata": {
    "id": "0GMyNZTyB0tz"
   },
   "outputs": [],
   "source": [
    "educationWageLiniarRgressionModel2 = LinearRegression()"
   ]
  },
  {
   "cell_type": "code",
   "execution_count": null,
   "metadata": {
    "id": "CMrTd4NsC3Am"
   },
   "outputs": [],
   "source": [
    "educationWageDf[\"Education\"], type(educationWageDf[\"Education\"])"
   ]
  },
  {
   "cell_type": "code",
   "execution_count": null,
   "metadata": {
    "id": "Flw3PPJKC0eI"
   },
   "outputs": [],
   "source": [
    "educationWageDf[[\"Education\"]], type(educationWageDf[[\"Education\"]])"
   ]
  },
  {
   "cell_type": "code",
   "execution_count": null,
   "metadata": {
    "id": "ox_p7rYYB8nA"
   },
   "outputs": [],
   "source": [
    "educationWageLiniarRgressionModel2Fit = educationWageLiniarRgressionModel2.fit(\n",
    "    educationWageDf[[\"Education\"]],\n",
    "    educationWageDf[\"Wage\"]\n",
    ")"
   ]
  },
  {
   "cell_type": "code",
   "execution_count": null,
   "metadata": {
    "id": "RxNZRBlhKpu5"
   },
   "outputs": [],
   "source": [
    "# Print the intercept and coefficient\n",
    "print(\"Intercept:\", educationWageLiniarRgressionModel2Fit.intercept_)\n",
    "print(\"Coefficient:\", educationWageLiniarRgressionModel2Fit.coef_[0])"
   ]
  },
  {
   "cell_type": "code",
   "execution_count": null,
   "metadata": {
    "id": "xtqZ6ZRaQBgK"
   },
   "outputs": [],
   "source": [
    "predictions1 = educationWageLiniarRgressionModel2Fit.predict(np.array([[5], [15]]))\n",
    "predictions1"
   ]
  },
  {
   "cell_type": "code",
   "execution_count": null,
   "metadata": {
    "id": "e2cyeBEUhzx6"
   },
   "outputs": [],
   "source": []
  },
  {
   "cell_type": "code",
   "execution_count": null,
   "metadata": {
    "id": "BVJslxRTiCxx"
   },
   "outputs": [],
   "source": []
  },
  {
   "cell_type": "code",
   "execution_count": null,
   "metadata": {
    "id": "ssUOw-bWQTMP"
   },
   "outputs": [],
   "source": [
    "predicWage(educationWageLiniarRgressionModel2Fit.intercept_, educationWageLiniarRgressionModel2Fit.coef_[0], 5)"
   ]
  },
  {
   "cell_type": "code",
   "execution_count": null,
   "metadata": {
    "id": "8cM6wdOdQYGK"
   },
   "outputs": [],
   "source": [
    "predicWage(educationWageLiniarRgressionModel2Fit.intercept_, educationWageLiniarRgressionModel2Fit.coef_[0], 15)"
   ]
  },
  {
   "cell_type": "code",
   "execution_count": null,
   "metadata": {
    "id": "uurMTqQpDi_A"
   },
   "outputs": [],
   "source": [
    "predictedWage2 = educationWageLiniarRgressionModel2Fit.predict(educationWageDf[[\"Education\"]])\n",
    "educationWageDf['predictedWage2'] = predictedWage2\n",
    "educationWageDf"
   ]
  },
  {
   "cell_type": "code",
   "execution_count": null,
   "metadata": {
    "id": "30mmVCEuD4sx"
   },
   "outputs": [],
   "source": [
    "# Plotting\n",
    "plt.figure(\n",
    "  figsize=(8, 8)\n",
    ")\n",
    "\n",
    "plt.scatter(\n",
    "  educationWageDf[\"Education\"],\n",
    "  educationWageDf[\"Wage\"],\n",
    "  color='blue',\n",
    "  alpha=0.9,\n",
    "  label='Data Points - scatter',\n",
    ")\n",
    "\n",
    "plt.plot(\n",
    "  educationWageDf[\"Education\"],\n",
    "  educationWageDf[\"predictedWage\"],\n",
    "  color='red',\n",
    "  label='OLS Regression - predictedWage'\n",
    ")\n",
    "plt.plot(\n",
    "  educationWageDf[\"Education\"],\n",
    "  educationWageDf[\"predictedWage2\"],\n",
    "  color='black',\n",
    "  label='sklearn  Regression - predictedWage'\n",
    ")\n",
    "plt.title('Education Level vs. Wage with OLS Regression')\n",
    "plt.xlabel('Education Level(yr)')\n",
    "plt.ylabel('Wage K')\n",
    "plt.legend()\n",
    "plt.grid(True)\n",
    "\n",
    "plt.gca().set_xlim([0, 25])\n",
    "plt.gca().set_ylim([0, 180])\n",
    "\n",
    "\n",
    "equation = f'Wage = {educationWageLiniarRgressionModel2Fit.coef_[0]:.2f} * Education + {educationWageLiniarRgressionModel2Fit.intercept_:.2f}'\n",
    "\n",
    "\n",
    "plt.text(\n",
    "    10, 120,\n",
    "    equation,\n",
    "    horizontalalignment='center',\n",
    "    verticalalignment='center',\n",
    "    fontsize=12,\n",
    "    color=\"green\",\n",
    "    bbox=dict(facecolor='white', alpha=0.5)\n",
    ")\n",
    "\n",
    "\n",
    "\n",
    "plt.show()"
   ]
  },
  {
   "cell_type": "code",
   "execution_count": null,
   "metadata": {},
   "outputs": [],
   "source": [
    "def educationWageLiniarRgressionModel2Transformer(dataForTransfer = None):\n",
    "    import pandas as pd\n",
    "    dfTransformer = pd.DataFrame(dataForTransfer)\n",
    "    return dfTransformer"
   ]
  },
  {
   "cell_type": "code",
   "execution_count": null,
   "metadata": {},
   "outputs": [],
   "source": [
    "educationWageLiniarRgressionModel2SampleTransformed = educationWageLiniarRgressionModel2Transformer(educationWageLiniarRgressionModelSampleData)\n",
    "educationWageLiniarRgressionModel2SampleTransformed"
   ]
  },
  {
   "cell_type": "code",
   "execution_count": null,
   "metadata": {},
   "outputs": [],
   "source": [
    "educationWageLiniarRgressionModel2Fit.predict(educationWageLiniarRgressionModel2SampleTransformed)"
   ]
  },
  {
   "cell_type": "code",
   "execution_count": null,
   "metadata": {},
   "outputs": [],
   "source": [
    "def educationWageLiniarRgressionModel2MainPredictor(self, transformedData):\n",
    "    npArr =  self.predict(transformedData)\n",
    "    # return npArr\n",
    "    result = {f\"{i}\": float(v) for i, v in enumerate(npArr)}\n",
    "    return result\n",
    "educationWageLiniarRgressionModel2Fit.mainPredictor = partial(educationWageLiniarRgressionModel2MainPredictor, educationWageLiniarRgressionModel2Fit)\n",
    "educationWageLiniarRgressionModel2Fit.transformer = educationWageLiniarRgressionModel2Transformer"
   ]
  },
  {
   "cell_type": "code",
   "execution_count": null,
   "metadata": {},
   "outputs": [],
   "source": [
    "test2 = educationWageLiniarRgressionModel2Fit.transformer(educationWageLiniarRgressionModelSampleData)\n",
    "test2"
   ]
  },
  {
   "cell_type": "code",
   "execution_count": null,
   "metadata": {},
   "outputs": [],
   "source": [
    "educationWageLiniarRgressionModel2Fit.mainPredictor(test2)"
   ]
  },
  {
   "cell_type": "code",
   "execution_count": null,
   "metadata": {},
   "outputs": [],
   "source": [
    "educationWageLiniarRgressionModel2Metadata = {\n",
    "    \"modelName\":f\"educationWageLiniarRgression2\",\n",
    "    \"version\":\"1.0.1\",\n",
    "    \"params\": {\n",
    "        \"intercept\": float(educationWageLiniarRgressionModel2Fit.intercept_),\n",
    "        **{f\"coef_{i}\": float(coef) for i, coef in enumerate(educationWageLiniarRgressionModel2Fit.coef_)}\n",
    "    },\n",
    "    \"score\":  educationWageLiniarRgressionModel2Fit.score(\n",
    "        educationWageDf[[\"Education\"]],\n",
    "        educationWageDf[\"Wage\"]\n",
    "    ),\n",
    "    \"modelLibraray\": 'sklearn.LinearRegression',\n",
    "    \"libraryMetadata\": {\n",
    "        \"params\": educationWageLiniarRgressionModel2Fit.get_params(),\n",
    "        \"r2_score\":  educationWageLiniarRgressionModel2Fit.score(\n",
    "            educationWageDf[[\"Education\"]],\n",
    "            educationWageDf[\"Wage\"]\n",
    "        )\n",
    "    },\n",
    "    \"sampleData\": {\n",
    "        \"dataForTransfer\": educationWageLiniarRgressionModelSampleData\n",
    "    }\n",
    "}\n",
    "educationWageLiniarRgressionModel2Metadata"
   ]
  },
  {
   "cell_type": "code",
   "execution_count": null,
   "metadata": {},
   "outputs": [],
   "source": [
    "registerAJrjModel(educationWageLiniarRgressionModel2Fit, educationWageLiniarRgressionModel2Metadata)"
   ]
  }
 ],
 "metadata": {
  "colab": {
   "private_outputs": true,
   "provenance": []
  },
  "kernelspec": {
   "display_name": "Python 3 (ipykernel)",
   "language": "python",
   "name": "python3"
  },
  "language_info": {
   "codemirror_mode": {
    "name": "ipython",
    "version": 3
   },
   "file_extension": ".py",
   "mimetype": "text/x-python",
   "name": "python",
   "nbconvert_exporter": "python",
   "pygments_lexer": "ipython3",
   "version": "3.13.0"
  }
 },
 "nbformat": 4,
 "nbformat_minor": 4
}
