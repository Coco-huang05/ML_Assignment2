{
 "cells": [
  {
   "cell_type": "markdown",
   "id": "96ca5057-e640-4961-955c-9f5c189bf2b2",
   "metadata": {},
   "source": [
    "# Dictionary"
   ]
  },
  {
   "cell_type": "code",
   "execution_count": 1,
   "id": "f983cb21-6e8c-40c0-8342-83955f72361b",
   "metadata": {},
   "outputs": [
    {
     "data": {
      "text/plain": [
       "{'key': 'value'}"
      ]
     },
     "execution_count": 1,
     "metadata": {},
     "output_type": "execute_result"
    }
   ],
   "source": [
    "{ \"key\": \"value\" }"
   ]
  },
  {
   "cell_type": "code",
   "execution_count": 2,
   "id": "8567d322-2d8b-46d4-b639-c0139c92c47f",
   "metadata": {},
   "outputs": [
    {
     "data": {
      "text/plain": [
       "{'name': 'jason'}"
      ]
     },
     "execution_count": 2,
     "metadata": {},
     "output_type": "execute_result"
    }
   ],
   "source": [
    "{\"name\": \"jason\"}"
   ]
  },
  {
   "cell_type": "code",
   "execution_count": 3,
   "id": "25d8b4ac-b087-447c-9502-5737ff2e2867",
   "metadata": {},
   "outputs": [],
   "source": [
    "dic1 = {\"name\": \"jason\"}"
   ]
  },
  {
   "cell_type": "code",
   "execution_count": 4,
   "id": "da3dbdcf-5228-466b-b5a4-6fba7a3204d2",
   "metadata": {},
   "outputs": [
    {
     "data": {
      "text/plain": [
       "'jason'"
      ]
     },
     "execution_count": 4,
     "metadata": {},
     "output_type": "execute_result"
    }
   ],
   "source": [
    "dic1[\"name\"]"
   ]
  },
  {
   "cell_type": "code",
   "execution_count": 5,
   "id": "b8c02cd6-8d0c-439a-8569-ec35f2be23ee",
   "metadata": {},
   "outputs": [
    {
     "data": {
      "text/plain": [
       "'jason'"
      ]
     },
     "execution_count": 5,
     "metadata": {},
     "output_type": "execute_result"
    }
   ],
   "source": [
    "dic1.get(\"name\")"
   ]
  },
  {
   "cell_type": "code",
   "execution_count": 6,
   "id": "772e8ecf-cf92-477f-9c57-5bef65c72053",
   "metadata": {},
   "outputs": [
    {
     "ename": "KeyError",
     "evalue": "'family'",
     "output_type": "error",
     "traceback": [
      "\u001b[31m---------------------------------------------------------------------------\u001b[39m",
      "\u001b[31mKeyError\u001b[39m                                  Traceback (most recent call last)",
      "\u001b[36mCell\u001b[39m\u001b[36m \u001b[39m\u001b[32mIn[6]\u001b[39m\u001b[32m, line 1\u001b[39m\n\u001b[32m----> \u001b[39m\u001b[32m1\u001b[39m \u001b[43mdic1\u001b[49m\u001b[43m[\u001b[49m\u001b[33;43m\"\u001b[39;49m\u001b[33;43mfamily\u001b[39;49m\u001b[33;43m\"\u001b[39;49m\u001b[43m]\u001b[49m\n",
      "\u001b[31mKeyError\u001b[39m: 'family'"
     ]
    }
   ],
   "source": [
    "dic1[\"family\"]"
   ]
  },
  {
   "cell_type": "code",
   "execution_count": 7,
   "id": "486604f2-cb86-4cd1-80cf-45e6f93553d4",
   "metadata": {},
   "outputs": [],
   "source": [
    "dic1.get(\"family\")"
   ]
  },
  {
   "cell_type": "code",
   "execution_count": 8,
   "id": "71c5a70f-8f73-43d2-a713-9d01a97fe88c",
   "metadata": {},
   "outputs": [
    {
     "data": {
      "text/plain": [
       "'NA'"
      ]
     },
     "execution_count": 8,
     "metadata": {},
     "output_type": "execute_result"
    }
   ],
   "source": [
    "dic1.get(\"family\", \"NA\")"
   ]
  },
  {
   "cell_type": "code",
   "execution_count": 9,
   "id": "f8834c91-66b4-42d1-b32f-9db892f35985",
   "metadata": {},
   "outputs": [],
   "source": [
    "dic1[\"Age\"] = 40"
   ]
  },
  {
   "cell_type": "code",
   "execution_count": 10,
   "id": "3aa12d9d-e158-4545-9d18-4e476f156b8c",
   "metadata": {},
   "outputs": [
    {
     "data": {
      "text/plain": [
       "{'name': 'jason', 'Age': 40}"
      ]
     },
     "execution_count": 10,
     "metadata": {},
     "output_type": "execute_result"
    }
   ],
   "source": [
    "dic1"
   ]
  },
  {
   "cell_type": "code",
   "execution_count": 11,
   "id": "4b2915be-d564-4852-adfa-038d31a397a9",
   "metadata": {},
   "outputs": [
    {
     "data": {
      "text/plain": [
       "40"
      ]
     },
     "execution_count": 11,
     "metadata": {},
     "output_type": "execute_result"
    }
   ],
   "source": [
    ".get(\"Age\")"
   ]
  },
  {
   "cell_type": "code",
   "execution_count": 12,
   "id": "7e3c635b-0bc1-4eb4-9ca4-db4657f76949",
   "metadata": {},
   "outputs": [],
   "source": [
    "dic1['dictNest1'] = {\n",
    "    \"dictNest2\": {\n",
    "        \"dictNest2Key\": \"dictNest2Value\"\n",
    "    }\n",
    "}"
   ]
  },
  {
   "cell_type": "code",
   "execution_count": 14,
   "id": "a6f17ee7-a28b-45e9-8dad-011c532d5687",
   "metadata": {},
   "outputs": [
    {
     "data": {
      "text/plain": [
       "{'name': 'jason',\n",
       " 'Age': 40,\n",
       " 'dictNest1': {'dictNest2': {'dictNest2Key': 'dictNest2Value'}}}"
      ]
     },
     "execution_count": 14,
     "metadata": {},
     "output_type": "execute_result"
    }
   ],
   "source": [
    "dic1"
   ]
  },
  {
   "cell_type": "code",
   "execution_count": 15,
   "id": "196edcb1-6a0d-419e-a515-ad5a00f57ee9",
   "metadata": {},
   "outputs": [
    {
     "data": {
      "text/plain": [
       "'dictNest2Value'"
      ]
     },
     "execution_count": 15,
     "metadata": {},
     "output_type": "execute_result"
    }
   ],
   "source": [
    "dic1[\"dictNest1\"][\"dictNest2\"][\"dictNest2Key\"]"
   ]
  },
  {
   "cell_type": "code",
   "execution_count": 16,
   "id": "b0fc0ed9-ac3a-4df3-992c-37eafd9c1766",
   "metadata": {},
   "outputs": [
    {
     "data": {
      "text/plain": [
       "{'name': 'jason',\n",
       " 'Age': 40,\n",
       " 'dictNest1': {'dictNest2': {'dictNest2Key': 'dictNest2Value'}}}"
      ]
     },
     "execution_count": 16,
     "metadata": {},
     "output_type": "execute_result"
    }
   ],
   "source": [
    "dic1"
   ]
  },
  {
   "cell_type": "code",
   "execution_count": 17,
   "id": "f6c54e72-68dc-479b-852c-d3d52de86e07",
   "metadata": {},
   "outputs": [
    {
     "data": {
      "text/plain": [
       "False"
      ]
     },
     "execution_count": 17,
     "metadata": {},
     "output_type": "execute_result"
    }
   ],
   "source": [
    "\"Family\" in dic1"
   ]
  },
  {
   "cell_type": "code",
   "execution_count": 18,
   "id": "839194c3-76d0-4b7b-b407-9b01ef8d6dff",
   "metadata": {},
   "outputs": [
    {
     "data": {
      "text/plain": [
       "True"
      ]
     },
     "execution_count": 18,
     "metadata": {},
     "output_type": "execute_result"
    }
   ],
   "source": [
    "\"name\" in dic1"
   ]
  },
  {
   "cell_type": "code",
   "execution_count": 21,
   "id": "12bf4ba3-f021-462f-8686-ea08aa71b021",
   "metadata": {},
   "outputs": [
    {
     "data": {
      "text/plain": [
       "False"
      ]
     },
     "execution_count": 21,
     "metadata": {},
     "output_type": "execute_result"
    }
   ],
   "source": [
    "\"dictNest2\" in dic1"
   ]
  },
  {
   "cell_type": "code",
   "execution_count": 22,
   "id": "90e15273-d52c-4206-9829-60d1af5c3401",
   "metadata": {},
   "outputs": [
    {
     "data": {
      "text/plain": [
       "True"
      ]
     },
     "execution_count": 22,
     "metadata": {},
     "output_type": "execute_result"
    }
   ],
   "source": [
    "\"dictNest2\" in dic1[\"dictNest1\"]"
   ]
  },
  {
   "cell_type": "code",
   "execution_count": 23,
   "id": "6f6e5d9d-905c-4a40-98a8-5b9d897e5edc",
   "metadata": {},
   "outputs": [
    {
     "data": {
      "text/plain": [
       "dict_keys(['name', 'Age', 'dictNest1'])"
      ]
     },
     "execution_count": 23,
     "metadata": {},
     "output_type": "execute_result"
    }
   ],
   "source": [
    "dic1.keys()"
   ]
  },
  {
   "cell_type": "code",
   "execution_count": 26,
   "id": "4c2274c5-1bfc-47da-a917-25119771f8e8",
   "metadata": {},
   "outputs": [
    {
     "data": {
      "text/plain": [
       "['name', 'Age', 'dictNest1']"
      ]
     },
     "execution_count": 26,
     "metadata": {},
     "output_type": "execute_result"
    }
   ],
   "source": [
    "list(dic1.keys())"
   ]
  },
  {
   "cell_type": "code",
   "execution_count": 24,
   "id": "64a2148c-f506-49ff-929d-f80cd2ed2fa5",
   "metadata": {},
   "outputs": [
    {
     "data": {
      "text/plain": [
       "dict_values(['jason', 40, {'dictNest2': {'dictNest2Key': 'dictNest2Value'}}])"
      ]
     },
     "execution_count": 24,
     "metadata": {},
     "output_type": "execute_result"
    }
   ],
   "source": [
    "dic1.values()"
   ]
  },
  {
   "cell_type": "code",
   "execution_count": 27,
   "id": "1890a16c-a39b-4fb6-bb70-a021ac7dbd50",
   "metadata": {},
   "outputs": [
    {
     "data": {
      "text/plain": [
       "['jason', 40, {'dictNest2': {'dictNest2Key': 'dictNest2Value'}}]"
      ]
     },
     "execution_count": 27,
     "metadata": {},
     "output_type": "execute_result"
    }
   ],
   "source": [
    "list(dic1.values())"
   ]
  },
  {
   "cell_type": "code",
   "execution_count": 25,
   "id": "0fcbb9d9-59b9-4740-825f-490b41e57849",
   "metadata": {},
   "outputs": [
    {
     "data": {
      "text/plain": [
       "dict_items([('name', 'jason'), ('Age', 40), ('dictNest1', {'dictNest2': {'dictNest2Key': 'dictNest2Value'}})])"
      ]
     },
     "execution_count": 25,
     "metadata": {},
     "output_type": "execute_result"
    }
   ],
   "source": [
    "dic1.items()"
   ]
  },
  {
   "cell_type": "code",
   "execution_count": 28,
   "id": "e37b76c6-3010-4898-85d0-8301ff7f9e96",
   "metadata": {},
   "outputs": [
    {
     "data": {
      "text/plain": [
       "[('name', 'jason'),\n",
       " ('Age', 40),\n",
       " ('dictNest1', {'dictNest2': {'dictNest2Key': 'dictNest2Value'}})]"
      ]
     },
     "execution_count": 28,
     "metadata": {},
     "output_type": "execute_result"
    }
   ],
   "source": [
    "list(dic1.items())"
   ]
  },
  {
   "cell_type": "code",
   "execution_count": null,
   "id": "9837b2ed-71e8-4e60-a325-989d6206107a",
   "metadata": {},
   "outputs": [],
   "source": []
  }
 ],
 "metadata": {
  "kernelspec": {
   "display_name": "Python 3 (ipykernel)",
   "language": "python",
   "name": "python3"
  },
  "language_info": {
   "codemirror_mode": {
    "name": "ipython",
    "version": 3
   },
   "file_extension": ".py",
   "mimetype": "text/x-python",
   "name": "python",
   "nbconvert_exporter": "python",
   "pygments_lexer": "ipython3",
   "version": "3.12.4"
  }
 },
 "nbformat": 4,
 "nbformat_minor": 5
}
