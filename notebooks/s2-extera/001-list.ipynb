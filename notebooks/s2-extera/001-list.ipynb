{
 "cells": [
  {
   "cell_type": "code",
   "execution_count": 1,
   "id": "538153b2-d68c-4475-94e9-f9e154d606be",
   "metadata": {},
   "outputs": [],
   "source": [
    "listExp1 = []"
   ]
  },
  {
   "cell_type": "code",
   "execution_count": 2,
   "id": "c9bd08e2-1744-4cbb-a7b6-0ef20c8e0697",
   "metadata": {},
   "outputs": [
    {
     "data": {
      "text/plain": [
       "[]"
      ]
     },
     "execution_count": 2,
     "metadata": {},
     "output_type": "execute_result"
    }
   ],
   "source": [
    "listExp1"
   ]
  },
  {
   "cell_type": "code",
   "execution_count": 10,
   "id": "f1105d0b-06b1-46d8-95f2-9f17396fe469",
   "metadata": {},
   "outputs": [],
   "source": [
    "listExp1 = ['a','b','c','d']"
   ]
  },
  {
   "cell_type": "code",
   "execution_count": 11,
   "id": "c5a1814a-fa05-4e9d-a2d6-1166749667c4",
   "metadata": {},
   "outputs": [
    {
     "data": {
      "text/plain": [
       "['a', 'b', 'c', 'd']"
      ]
     },
     "execution_count": 11,
     "metadata": {},
     "output_type": "execute_result"
    }
   ],
   "source": [
    "listExp1"
   ]
  },
  {
   "cell_type": "code",
   "execution_count": 12,
   "id": "28633053-b1ac-452e-901e-4ee21942b628",
   "metadata": {},
   "outputs": [
    {
     "data": {
      "text/plain": [
       "'a'"
      ]
     },
     "execution_count": 12,
     "metadata": {},
     "output_type": "execute_result"
    }
   ],
   "source": [
    "listExp1[0]"
   ]
  },
  {
   "cell_type": "code",
   "execution_count": 18,
   "id": "5242d942-6e9b-4402-a0a8-a64df913a9ee",
   "metadata": {},
   "outputs": [
    {
     "data": {
      "text/plain": [
       "'d'"
      ]
     },
     "execution_count": 18,
     "metadata": {},
     "output_type": "execute_result"
    }
   ],
   "source": [
    "listExp1[3]"
   ]
  },
  {
   "cell_type": "code",
   "execution_count": 14,
   "id": "966accfb-5307-46d9-8072-5085c32a4f51",
   "metadata": {},
   "outputs": [
    {
     "data": {
      "text/plain": [
       "4"
      ]
     },
     "execution_count": 14,
     "metadata": {},
     "output_type": "execute_result"
    }
   ],
   "source": [
    "len(listExp1)"
   ]
  },
  {
   "cell_type": "code",
   "execution_count": 15,
   "id": "d3e1ef15-4522-445e-9aca-6b4b422bb232",
   "metadata": {},
   "outputs": [
    {
     "data": {
      "text/plain": [
       "'d'"
      ]
     },
     "execution_count": 15,
     "metadata": {},
     "output_type": "execute_result"
    }
   ],
   "source": [
    "listExp1[len(listExp1)-1]"
   ]
  },
  {
   "cell_type": "code",
   "execution_count": 17,
   "id": "926d03ef-e84d-477d-94d7-d9d9848c74d1",
   "metadata": {},
   "outputs": [
    {
     "data": {
      "text/plain": [
       "'d'"
      ]
     },
     "execution_count": 17,
     "metadata": {},
     "output_type": "execute_result"
    }
   ],
   "source": [
    "listExp1[-1]"
   ]
  },
  {
   "cell_type": "code",
   "execution_count": 19,
   "id": "b78c81b8-8c9e-4f88-b441-11b78b498780",
   "metadata": {},
   "outputs": [
    {
     "data": {
      "text/plain": [
       "'c'"
      ]
     },
     "execution_count": 19,
     "metadata": {},
     "output_type": "execute_result"
    }
   ],
   "source": [
    "listExp1[-2]"
   ]
  },
  {
   "cell_type": "code",
   "execution_count": 22,
   "id": "1ea9e06e-8fa6-4519-9927-efc0be2aee80",
   "metadata": {},
   "outputs": [
    {
     "data": {
      "text/plain": [
       "['a', 'b', 'c', 'd']"
      ]
     },
     "execution_count": 22,
     "metadata": {},
     "output_type": "execute_result"
    }
   ],
   "source": [
    "listExp1[:]"
   ]
  },
  {
   "cell_type": "code",
   "execution_count": 23,
   "id": "14903643-9731-408a-a864-7d4613617a27",
   "metadata": {},
   "outputs": [
    {
     "data": {
      "text/plain": [
       "['a', 'b', 'c', 'd']"
      ]
     },
     "execution_count": 23,
     "metadata": {},
     "output_type": "execute_result"
    }
   ],
   "source": [
    "listExp1[0:]"
   ]
  },
  {
   "cell_type": "code",
   "execution_count": 26,
   "id": "0813709a-ddbd-4e6f-a2b7-262917469803",
   "metadata": {},
   "outputs": [
    {
     "data": {
      "text/plain": [
       "['a', 'b', 'c']"
      ]
     },
     "execution_count": 26,
     "metadata": {},
     "output_type": "execute_result"
    }
   ],
   "source": [
    "listExp1[0:3]"
   ]
  },
  {
   "cell_type": "code",
   "execution_count": 27,
   "id": "453556b1-d579-40b7-8610-5113fc7c266d",
   "metadata": {},
   "outputs": [
    {
     "data": {
      "text/plain": [
       "['a', 'b']"
      ]
     },
     "execution_count": 27,
     "metadata": {},
     "output_type": "execute_result"
    }
   ],
   "source": [
    "listExp1[0:2]"
   ]
  },
  {
   "cell_type": "code",
   "execution_count": 30,
   "id": "1f68c2a1-1f7e-4e4c-a244-6ddfe2e8ada4",
   "metadata": {},
   "outputs": [
    {
     "data": {
      "text/plain": [
       "['b', 'c']"
      ]
     },
     "execution_count": 30,
     "metadata": {},
     "output_type": "execute_result"
    }
   ],
   "source": [
    "listExp1[1:3]"
   ]
  },
  {
   "cell_type": "code",
   "execution_count": 56,
   "id": "f88ec634-24ff-426d-aafd-4394788c0099",
   "metadata": {},
   "outputs": [],
   "source": [
    "PLanguages = ['R','Python', 'SAS', 'Scala', 'JavaScript']"
   ]
  },
  {
   "cell_type": "code",
   "execution_count": 57,
   "id": "2699b461-7798-48c7-ad38-41079c09cf3d",
   "metadata": {},
   "outputs": [
    {
     "data": {
      "text/plain": [
       "['R', 'Python', 'SAS', 'Scala', 'JavaScript']"
      ]
     },
     "execution_count": 57,
     "metadata": {},
     "output_type": "execute_result"
    }
   ],
   "source": [
    "PLanguages"
   ]
  },
  {
   "cell_type": "code",
   "execution_count": 58,
   "id": "eb15c5dd-0748-434f-98e4-900df6a58977",
   "metadata": {},
   "outputs": [],
   "source": [
    "PLanguages.append('Matlab')"
   ]
  },
  {
   "cell_type": "code",
   "execution_count": 59,
   "id": "264f6a56-ed60-4c9b-8fd5-b66f36e9cf9f",
   "metadata": {},
   "outputs": [
    {
     "data": {
      "text/plain": [
       "['R', 'Python', 'SAS', 'Scala', 'JavaScript', 'Matlab']"
      ]
     },
     "execution_count": 59,
     "metadata": {},
     "output_type": "execute_result"
    }
   ],
   "source": [
    "PLanguages"
   ]
  },
  {
   "cell_type": "code",
   "execution_count": 60,
   "id": "4ea3caff-d7fa-4e6d-b3d2-c27eeac2f248",
   "metadata": {},
   "outputs": [],
   "source": [
    "PLanguages.append('Java')"
   ]
  },
  {
   "cell_type": "code",
   "execution_count": 61,
   "id": "8aeb66f3-a6ee-4414-8e98-ba11b29054d2",
   "metadata": {},
   "outputs": [
    {
     "data": {
      "text/plain": [
       "['R', 'Python', 'SAS', 'Scala', 'JavaScript', 'Matlab', 'Java']"
      ]
     },
     "execution_count": 61,
     "metadata": {},
     "output_type": "execute_result"
    }
   ],
   "source": [
    "PLanguages"
   ]
  },
  {
   "cell_type": "code",
   "execution_count": 62,
   "id": "c8f72181-b0e0-41cb-b3bf-da2370e35ab9",
   "metadata": {},
   "outputs": [
    {
     "data": {
      "text/plain": [
       "'Java'"
      ]
     },
     "execution_count": 62,
     "metadata": {},
     "output_type": "execute_result"
    }
   ],
   "source": [
    "PLanguages.pop()"
   ]
  },
  {
   "cell_type": "code",
   "execution_count": 63,
   "id": "f4ca0065-49a1-44b3-9efb-0b9ad66b806e",
   "metadata": {},
   "outputs": [
    {
     "data": {
      "text/plain": [
       "['R', 'Python', 'SAS', 'Scala', 'JavaScript', 'Matlab']"
      ]
     },
     "execution_count": 63,
     "metadata": {},
     "output_type": "execute_result"
    }
   ],
   "source": [
    "PLanguages"
   ]
  },
  {
   "cell_type": "code",
   "execution_count": 64,
   "id": "e95545cc-18b0-45ce-86da-4c044dc8abfb",
   "metadata": {},
   "outputs": [
    {
     "data": {
      "text/plain": [
       "'R'"
      ]
     },
     "execution_count": 64,
     "metadata": {},
     "output_type": "execute_result"
    }
   ],
   "source": [
    "PLanguages.pop(0)"
   ]
  },
  {
   "cell_type": "code",
   "execution_count": 65,
   "id": "02b8b921-edef-42ac-8015-2aeabde8ba27",
   "metadata": {},
   "outputs": [
    {
     "data": {
      "text/plain": [
       "['Python', 'SAS', 'Scala', 'JavaScript', 'Matlab']"
      ]
     },
     "execution_count": 65,
     "metadata": {},
     "output_type": "execute_result"
    }
   ],
   "source": [
    "PLanguages"
   ]
  },
  {
   "cell_type": "code",
   "execution_count": 66,
   "id": "d6d337fd-c0fd-48d7-ac6e-52f53cbae6e7",
   "metadata": {},
   "outputs": [
    {
     "data": {
      "text/plain": [
       "'Scala'"
      ]
     },
     "execution_count": 66,
     "metadata": {},
     "output_type": "execute_result"
    }
   ],
   "source": [
    "PLanguages.pop(2)"
   ]
  },
  {
   "cell_type": "code",
   "execution_count": 67,
   "id": "6a5367b1-1261-4e67-881d-0dad9d0a0d0e",
   "metadata": {},
   "outputs": [
    {
     "data": {
      "text/plain": [
       "['Python', 'SAS', 'JavaScript', 'Matlab']"
      ]
     },
     "execution_count": 67,
     "metadata": {},
     "output_type": "execute_result"
    }
   ],
   "source": [
    "PLanguages"
   ]
  },
  {
   "cell_type": "code",
   "execution_count": 68,
   "id": "d1cc5bff-498e-4c56-966b-fdfa36e5b226",
   "metadata": {},
   "outputs": [],
   "source": [
    "PLanguages.append(\"SAS\")"
   ]
  },
  {
   "cell_type": "code",
   "execution_count": 69,
   "id": "065cad4d-ab03-4bee-91c9-aea2d6364b4c",
   "metadata": {},
   "outputs": [
    {
     "data": {
      "text/plain": [
       "['Python', 'SAS', 'JavaScript', 'Matlab', 'SAS']"
      ]
     },
     "execution_count": 69,
     "metadata": {},
     "output_type": "execute_result"
    }
   ],
   "source": [
    "PLanguages"
   ]
  },
  {
   "cell_type": "code",
   "execution_count": 72,
   "id": "dcdb5ea3-bc83-4aa1-abeb-97e0351d57a3",
   "metadata": {},
   "outputs": [],
   "source": [
    "PLanguages.remove(\"SAS\")"
   ]
  },
  {
   "cell_type": "code",
   "execution_count": 73,
   "id": "484d3d43-8aef-44e7-be3a-bc02c3a89390",
   "metadata": {},
   "outputs": [
    {
     "data": {
      "text/plain": [
       "['Python', 'JavaScript', 'Matlab']"
      ]
     },
     "execution_count": 73,
     "metadata": {},
     "output_type": "execute_result"
    }
   ],
   "source": [
    "PLanguages"
   ]
  },
  {
   "cell_type": "markdown",
   "id": "56280f8e-26ec-4520-9315-ccc3a3b6d8e2",
   "metadata": {},
   "source": [
    "# Copy List"
   ]
  },
  {
   "cell_type": "code",
   "execution_count": 92,
   "id": "c9c1e915-0495-4b0f-aa59-e0d5b1f2b4c3",
   "metadata": {},
   "outputs": [],
   "source": [
    "newList = PLanguages"
   ]
  },
  {
   "cell_type": "code",
   "execution_count": 93,
   "id": "8d65ed03-7ad9-426f-9be3-a7890fcbaf95",
   "metadata": {},
   "outputs": [
    {
     "data": {
      "text/plain": [
       "True"
      ]
     },
     "execution_count": 93,
     "metadata": {},
     "output_type": "execute_result"
    }
   ],
   "source": [
    "newList == PLanguages"
   ]
  },
  {
   "cell_type": "code",
   "execution_count": 94,
   "id": "edb7f767-fcd7-4a8b-a53b-3cca9e89fd8f",
   "metadata": {},
   "outputs": [
    {
     "data": {
      "text/plain": [
       "4460009984"
      ]
     },
     "execution_count": 94,
     "metadata": {},
     "output_type": "execute_result"
    }
   ],
   "source": [
    "id(PLanguages)"
   ]
  },
  {
   "cell_type": "code",
   "execution_count": 95,
   "id": "73bfb7d7-8cbb-4deb-8a9a-514fdbf1b4df",
   "metadata": {},
   "outputs": [
    {
     "data": {
      "text/plain": [
       "4460009984"
      ]
     },
     "execution_count": 95,
     "metadata": {},
     "output_type": "execute_result"
    }
   ],
   "source": [
    "id(newList)"
   ]
  },
  {
   "cell_type": "code",
   "execution_count": 76,
   "id": "0dec47f3-e664-4eeb-b1eb-b05953c6c4ea",
   "metadata": {},
   "outputs": [
    {
     "data": {
      "text/plain": [
       "['Python', 'JavaScript', 'Matlab']"
      ]
     },
     "execution_count": 76,
     "metadata": {},
     "output_type": "execute_result"
    }
   ],
   "source": [
    "newList"
   ]
  },
  {
   "cell_type": "code",
   "execution_count": 77,
   "id": "ef8ebdc3-b049-4f2a-a255-17a7ef482db7",
   "metadata": {},
   "outputs": [],
   "source": [
    "newList.append(\"R\")"
   ]
  },
  {
   "cell_type": "code",
   "execution_count": 78,
   "id": "4269b56d-8fca-4be5-b9e3-850f1b6f9581",
   "metadata": {},
   "outputs": [
    {
     "data": {
      "text/plain": [
       "['Python', 'JavaScript', 'Matlab', 'R']"
      ]
     },
     "execution_count": 78,
     "metadata": {},
     "output_type": "execute_result"
    }
   ],
   "source": [
    "newList"
   ]
  },
  {
   "cell_type": "code",
   "execution_count": 79,
   "id": "18c4b044-0786-4aed-a843-4a27fa99f0fe",
   "metadata": {},
   "outputs": [
    {
     "data": {
      "text/plain": [
       "['Python', 'JavaScript', 'Matlab', 'R']"
      ]
     },
     "execution_count": 79,
     "metadata": {},
     "output_type": "execute_result"
    }
   ],
   "source": [
    "PLanguages"
   ]
  },
  {
   "cell_type": "code",
   "execution_count": 80,
   "id": "59904b38-b8de-425c-8937-d8d44578b6f3",
   "metadata": {},
   "outputs": [],
   "source": [
    "PLanguages = ['Python', 'JavaScript', 'Matlab']"
   ]
  },
  {
   "cell_type": "code",
   "execution_count": 96,
   "id": "53bcae35-78b1-4419-ad16-82168917d75d",
   "metadata": {},
   "outputs": [],
   "source": [
    "newList = PLanguages[:]"
   ]
  },
  {
   "cell_type": "code",
   "execution_count": 97,
   "id": "9d90a079-6efc-4651-91d2-b03588a945a6",
   "metadata": {},
   "outputs": [
    {
     "data": {
      "text/plain": [
       "4460009984"
      ]
     },
     "execution_count": 97,
     "metadata": {},
     "output_type": "execute_result"
    }
   ],
   "source": [
    "id(PLanguages)"
   ]
  },
  {
   "cell_type": "code",
   "execution_count": 98,
   "id": "c17cd1f8-1602-4da3-a3dd-b6644a9e835a",
   "metadata": {},
   "outputs": [
    {
     "data": {
      "text/plain": [
       "4459945344"
      ]
     },
     "execution_count": 98,
     "metadata": {},
     "output_type": "execute_result"
    }
   ],
   "source": [
    "id(newList)"
   ]
  },
  {
   "cell_type": "code",
   "execution_count": 82,
   "id": "2614aeea-2f5f-4df2-89db-d8c85d33b23b",
   "metadata": {},
   "outputs": [
    {
     "data": {
      "text/plain": [
       "['Python', 'JavaScript', 'Matlab']"
      ]
     },
     "execution_count": 82,
     "metadata": {},
     "output_type": "execute_result"
    }
   ],
   "source": [
    "newList\n"
   ]
  },
  {
   "cell_type": "code",
   "execution_count": 83,
   "id": "e32ebb08-3e6b-4ff0-a635-e0d6add8484f",
   "metadata": {},
   "outputs": [],
   "source": [
    "newList.append(\"R\")"
   ]
  },
  {
   "cell_type": "code",
   "execution_count": 84,
   "id": "93a1c4cf-7777-431b-af4d-69adb9f051b8",
   "metadata": {},
   "outputs": [
    {
     "data": {
      "text/plain": [
       "['Python', 'JavaScript', 'Matlab']"
      ]
     },
     "execution_count": 84,
     "metadata": {},
     "output_type": "execute_result"
    }
   ],
   "source": [
    "PLanguages"
   ]
  },
  {
   "cell_type": "code",
   "execution_count": 85,
   "id": "44a860ec-91c5-4343-bc86-b3e54aa1d944",
   "metadata": {},
   "outputs": [
    {
     "data": {
      "text/plain": [
       "['Python', 'JavaScript', 'Matlab', 'R']"
      ]
     },
     "execution_count": 85,
     "metadata": {},
     "output_type": "execute_result"
    }
   ],
   "source": [
    "newList"
   ]
  },
  {
   "cell_type": "code",
   "execution_count": 86,
   "id": "3e47577d-84f1-47d1-b145-89d2da486965",
   "metadata": {},
   "outputs": [],
   "source": [
    "newList2 = PLanguages.copy()"
   ]
  },
  {
   "cell_type": "code",
   "execution_count": 87,
   "id": "eefd1248-54a4-40c9-bbe4-d75dfdc88a1b",
   "metadata": {},
   "outputs": [
    {
     "data": {
      "text/plain": [
       "['Python', 'JavaScript', 'Matlab']"
      ]
     },
     "execution_count": 87,
     "metadata": {},
     "output_type": "execute_result"
    }
   ],
   "source": [
    "newList2"
   ]
  },
  {
   "cell_type": "code",
   "execution_count": 88,
   "id": "35a37abc-f06d-4b02-b808-ce2c6801477d",
   "metadata": {},
   "outputs": [
    {
     "data": {
      "text/plain": [
       "True"
      ]
     },
     "execution_count": 88,
     "metadata": {},
     "output_type": "execute_result"
    }
   ],
   "source": [
    "newList2 == PLanguages"
   ]
  },
  {
   "cell_type": "code",
   "execution_count": 89,
   "id": "a7068cf2-5ded-4cb3-956b-5e38fb0dc648",
   "metadata": {},
   "outputs": [],
   "source": [
    "newList2.append(\"R\")"
   ]
  },
  {
   "cell_type": "code",
   "execution_count": 90,
   "id": "1d086e7f-568a-4fab-bf76-71c32a3c676f",
   "metadata": {},
   "outputs": [
    {
     "data": {
      "text/plain": [
       "['Python', 'JavaScript', 'Matlab', 'R']"
      ]
     },
     "execution_count": 90,
     "metadata": {},
     "output_type": "execute_result"
    }
   ],
   "source": [
    "newList2"
   ]
  },
  {
   "cell_type": "code",
   "execution_count": 91,
   "id": "47243277-e8b9-47e9-b9df-a1f532511d83",
   "metadata": {},
   "outputs": [
    {
     "data": {
      "text/plain": [
       "['Python', 'JavaScript', 'Matlab']"
      ]
     },
     "execution_count": 91,
     "metadata": {},
     "output_type": "execute_result"
    }
   ],
   "source": [
    "PLanguages"
   ]
  },
  {
   "cell_type": "code",
   "execution_count": 99,
   "id": "75d10d88-51b1-4f16-9582-4816b87a8645",
   "metadata": {},
   "outputs": [],
   "source": [
    "aSentence = \"Hi Saif, this is to inform you that I'm not well today.\""
   ]
  },
  {
   "cell_type": "code",
   "execution_count": 100,
   "id": "383fd02e-a4c4-451c-8b08-6dda790dc80b",
   "metadata": {},
   "outputs": [],
   "source": [
    "aSentenceList = aSentence.split()"
   ]
  },
  {
   "cell_type": "code",
   "execution_count": 101,
   "id": "8040023f-a328-42d5-8bd9-46704a88bcbf",
   "metadata": {},
   "outputs": [
    {
     "data": {
      "text/plain": [
       "['Hi',\n",
       " 'Saif,',\n",
       " 'this',\n",
       " 'is',\n",
       " 'to',\n",
       " 'inform',\n",
       " 'you',\n",
       " 'that',\n",
       " \"I'm\",\n",
       " 'not',\n",
       " 'well',\n",
       " 'today.']"
      ]
     },
     "execution_count": 101,
     "metadata": {},
     "output_type": "execute_result"
    }
   ],
   "source": [
    "aSentenceList"
   ]
  },
  {
   "cell_type": "code",
   "execution_count": 103,
   "id": "e59ce077-27e8-4c35-a3f6-64c4afdde5c6",
   "metadata": {},
   "outputs": [
    {
     "data": {
      "text/plain": [
       "\"Hi  Saif,  this  is  to  inform  you  that  I'm  not  well  today.\""
      ]
     },
     "execution_count": 103,
     "metadata": {},
     "output_type": "execute_result"
    }
   ],
   "source": [
    "\"  \".join(aSentenceList)"
   ]
  },
  {
   "cell_type": "code",
   "execution_count": 104,
   "id": "540aba01-0661-4fe1-b554-84573c367165",
   "metadata": {},
   "outputs": [],
   "source": [
    "aSentence = \"Hi Saif, this is to inform you that I'm not well today.\""
   ]
  },
  {
   "cell_type": "code",
   "execution_count": 105,
   "id": "8242a367-9d5c-4b2f-9add-9a384d8af6cd",
   "metadata": {},
   "outputs": [],
   "source": [
    "aSentenceList2 = aSentence.split(',')"
   ]
  },
  {
   "cell_type": "code",
   "execution_count": 106,
   "id": "a2785ba2-6b6b-4e65-9ba0-bf69b4a8b80d",
   "metadata": {},
   "outputs": [
    {
     "data": {
      "text/plain": [
       "['Hi Saif', \" this is to inform you that I'm not well today.\"]"
      ]
     },
     "execution_count": 106,
     "metadata": {},
     "output_type": "execute_result"
    }
   ],
   "source": [
    "aSentenceList2"
   ]
  },
  {
   "cell_type": "code",
   "execution_count": 107,
   "id": "646b93fb-9ad1-4069-b760-9206c0f04ca9",
   "metadata": {},
   "outputs": [
    {
     "data": {
      "text/plain": [
       "\"Hi Saif &  this is to inform you that I'm not well today.\""
      ]
     },
     "execution_count": 107,
     "metadata": {},
     "output_type": "execute_result"
    }
   ],
   "source": [
    "\" & \".join(aSentenceList2)"
   ]
  },
  {
   "cell_type": "code",
   "execution_count": 108,
   "id": "f69878e9-742b-4478-8445-1d0482b6d19d",
   "metadata": {},
   "outputs": [],
   "source": [
    "list2 = [\"hi\"]"
   ]
  },
  {
   "cell_type": "code",
   "execution_count": 109,
   "id": "07ecb911-8283-4039-acfa-8e93f13d5c1e",
   "metadata": {},
   "outputs": [
    {
     "data": {
      "text/plain": [
       "['hi']"
      ]
     },
     "execution_count": 109,
     "metadata": {},
     "output_type": "execute_result"
    }
   ],
   "source": [
    "list2"
   ]
  },
  {
   "cell_type": "code",
   "execution_count": 110,
   "id": "03300f46-b457-483c-b1a0-217da0c3527b",
   "metadata": {},
   "outputs": [
    {
     "data": {
      "text/plain": [
       "['hi', 'hi', 'hi', 'hi', 'hi']"
      ]
     },
     "execution_count": 110,
     "metadata": {},
     "output_type": "execute_result"
    }
   ],
   "source": [
    "list2 * 5"
   ]
  },
  {
   "cell_type": "code",
   "execution_count": 111,
   "id": "b16ed422-ea36-4e6e-9c60-c0154cdf9ce2",
   "metadata": {},
   "outputs": [],
   "source": [
    "list3 = ['jason']"
   ]
  },
  {
   "cell_type": "code",
   "execution_count": 112,
   "id": "3fe469ef-32d4-49a8-9349-b4ee89e21c4d",
   "metadata": {},
   "outputs": [
    {
     "data": {
      "text/plain": [
       "(['hi'], ['jason'])"
      ]
     },
     "execution_count": 112,
     "metadata": {},
     "output_type": "execute_result"
    }
   ],
   "source": [
    "list2, list3"
   ]
  },
  {
   "cell_type": "code",
   "execution_count": 113,
   "id": "1bffb2d9-0717-45d4-b214-2b8691662711",
   "metadata": {},
   "outputs": [
    {
     "data": {
      "text/plain": [
       "['hi', 'jason']"
      ]
     },
     "execution_count": 113,
     "metadata": {},
     "output_type": "execute_result"
    }
   ],
   "source": [
    "list2 + list3"
   ]
  },
  {
   "cell_type": "code",
   "execution_count": 123,
   "id": "59ae0782-afba-4e63-92cc-992fbd0a5039",
   "metadata": {},
   "outputs": [],
   "source": [
    "nums = [2,6,9,3,2,1]"
   ]
  },
  {
   "cell_type": "code",
   "execution_count": 124,
   "id": "1ff6ffe9-17fa-4049-981a-b1b03259e284",
   "metadata": {},
   "outputs": [
    {
     "data": {
      "text/plain": [
       "6"
      ]
     },
     "execution_count": 124,
     "metadata": {},
     "output_type": "execute_result"
    }
   ],
   "source": [
    "len(nums)"
   ]
  },
  {
   "cell_type": "code",
   "execution_count": 125,
   "id": "492c22eb-f126-4749-ba4d-f1a8d916a75c",
   "metadata": {},
   "outputs": [
    {
     "data": {
      "text/plain": [
       "9"
      ]
     },
     "execution_count": 125,
     "metadata": {},
     "output_type": "execute_result"
    }
   ],
   "source": [
    "max(nums)"
   ]
  },
  {
   "cell_type": "code",
   "execution_count": 126,
   "id": "2dbbf584-ab70-474a-9466-e147799fb8df",
   "metadata": {},
   "outputs": [
    {
     "data": {
      "text/plain": [
       "1"
      ]
     },
     "execution_count": 126,
     "metadata": {},
     "output_type": "execute_result"
    }
   ],
   "source": [
    "min(nums)"
   ]
  },
  {
   "cell_type": "code",
   "execution_count": 127,
   "id": "665fea54-250d-4209-86c7-5d6e56c59759",
   "metadata": {},
   "outputs": [],
   "source": [
    "# nums.sort(reverse=True)"
   ]
  },
  {
   "cell_type": "code",
   "execution_count": 128,
   "id": "338998ef-919d-4136-af1a-a2c7ae72dd6b",
   "metadata": {},
   "outputs": [
    {
     "data": {
      "text/plain": [
       "[1, 2, 2, 3, 6, 9]"
      ]
     },
     "execution_count": 128,
     "metadata": {},
     "output_type": "execute_result"
    }
   ],
   "source": [
    "sorted(nums)"
   ]
  },
  {
   "cell_type": "code",
   "execution_count": 130,
   "id": "c5a467b8-54ed-441b-84b3-f40c6c7b6bd5",
   "metadata": {},
   "outputs": [
    {
     "data": {
      "text/plain": [
       "[2, 6, 9, 3, 2, 1]"
      ]
     },
     "execution_count": 130,
     "metadata": {},
     "output_type": "execute_result"
    }
   ],
   "source": [
    "nums"
   ]
  },
  {
   "cell_type": "code",
   "execution_count": 131,
   "id": "16ad46c7-69e2-458a-90ff-8b2766c874b4",
   "metadata": {},
   "outputs": [
    {
     "data": {
      "text/plain": [
       "[9, 6, 3, 2, 2, 1]"
      ]
     },
     "execution_count": 131,
     "metadata": {},
     "output_type": "execute_result"
    }
   ],
   "source": [
    "sorted(nums, reverse=True)"
   ]
  },
  {
   "cell_type": "code",
   "execution_count": 132,
   "id": "e8172a5c-cdfe-4b8b-9316-3d15873bcafe",
   "metadata": {},
   "outputs": [
    {
     "data": {
      "text/plain": [
       "[2, 6, 9, 3, 2, 1]"
      ]
     },
     "execution_count": 132,
     "metadata": {},
     "output_type": "execute_result"
    }
   ],
   "source": [
    "nums"
   ]
  },
  {
   "cell_type": "code",
   "execution_count": 133,
   "id": "74b94e10-8890-430a-8779-b51218ef1888",
   "metadata": {},
   "outputs": [],
   "source": [
    "nums.sort()"
   ]
  },
  {
   "cell_type": "code",
   "execution_count": 134,
   "id": "e7fc36af-463d-4d3e-b091-5cc701a1e9bf",
   "metadata": {},
   "outputs": [
    {
     "data": {
      "text/plain": [
       "[1, 2, 2, 3, 6, 9]"
      ]
     },
     "execution_count": 134,
     "metadata": {},
     "output_type": "execute_result"
    }
   ],
   "source": [
    "nums"
   ]
  },
  {
   "cell_type": "code",
   "execution_count": 135,
   "id": "73af42c2-216f-4796-90cd-46464c27a9db",
   "metadata": {},
   "outputs": [],
   "source": [
    "nums.sort(reverse=True)"
   ]
  },
  {
   "cell_type": "code",
   "execution_count": 136,
   "id": "769e4f0b-0cf6-4ffb-bf89-1e58863ff911",
   "metadata": {},
   "outputs": [
    {
     "data": {
      "text/plain": [
       "[9, 6, 3, 2, 2, 1]"
      ]
     },
     "execution_count": 136,
     "metadata": {},
     "output_type": "execute_result"
    }
   ],
   "source": [
    "nums"
   ]
  },
  {
   "cell_type": "code",
   "execution_count": null,
   "id": "e6ce1e7c-bb77-4030-8b25-9342a66c188a",
   "metadata": {},
   "outputs": [],
   "source": []
  }
 ],
 "metadata": {
  "kernelspec": {
   "display_name": "Python 3 (ipykernel)",
   "language": "python",
   "name": "python3"
  },
  "language_info": {
   "codemirror_mode": {
    "name": "ipython",
    "version": 3
   },
   "file_extension": ".py",
   "mimetype": "text/x-python",
   "name": "python",
   "nbconvert_exporter": "python",
   "pygments_lexer": "ipython3",
   "version": "3.12.4"
  }
 },
 "nbformat": 4,
 "nbformat_minor": 5
}
