{
 "cells": [
  {
   "cell_type": "code",
   "execution_count": null,
   "id": "c2a48b30-6ee8-4408-a888-2352b9d87f4b",
   "metadata": {},
   "outputs": [],
   "source": [
    "import random\n",
    "from datetime import datetime, timedelta"
   ]
  },
  {
   "cell_type": "code",
   "execution_count": null,
   "id": "518d1eb4-2a0b-46df-b327-8a6511cd0f1e",
   "metadata": {},
   "outputs": [],
   "source": [
    "groups = [\"Group 1 (Online)\", \"Group 2\", \"Group 3\", \"Group 4\", \"Group 5\", \"Group 6\"]\n"
   ]
  },
  {
   "cell_type": "code",
   "execution_count": null,
   "id": "40ae8d11-bcc1-46e3-af5b-006935de2a55",
   "metadata": {},
   "outputs": [],
   "source": [
    "start_time = datetime.strptime(\"13:00\", \"%H:%M\")"
   ]
  },
  {
   "cell_type": "code",
   "execution_count": null,
   "id": "6abfe342-e326-4130-87b2-e5491350ce69",
   "metadata": {},
   "outputs": [],
   "source": [
    "time_slots = [(start_time + timedelta(minutes=30 * i)) for i in range(6)]\n",
    "time_slots"
   ]
  },
  {
   "cell_type": "code",
   "execution_count": null,
   "id": "afdf0ed9-3e15-471f-8a69-e25e1949ed46",
   "metadata": {},
   "outputs": [],
   "source": [
    "while True:\n",
    "    shuffled_groups = groups[:]\n",
    "    random.shuffle(shuffled_groups)\n",
    "    if shuffled_groups[0] != \"Group 1 (Online)\":\n",
    "        break"
   ]
  },
  {
   "cell_type": "code",
   "execution_count": null,
   "id": "9e44ced4-bb47-43f7-8878-6bb28caa356f",
   "metadata": {},
   "outputs": [],
   "source": [
    "# Assign time slots to groups\n",
    "schedule = []\n",
    "for i, group in enumerate(shuffled_groups):\n",
    "    slot_start = time_slots[i]\n",
    "    slot_end = slot_start + timedelta(minutes=30)\n",
    "    schedule.append((group, slot_start.strftime(\"%I:%M %p\"), slot_end.strftime(\"%I:%M %p\")))\n"
   ]
  },
  {
   "cell_type": "code",
   "execution_count": null,
   "id": "45e9b7c4-8a2b-479d-9075-2bb93a66a88a",
   "metadata": {},
   "outputs": [],
   "source": [
    "# Display the schedule\n",
    "print(\"Presentation Schedule:\")\n",
    "for group, start, end in schedule:"
   ]
  },
  {
   "cell_type": "code",
   "execution_count": null,
   "id": "849c30c9-e6fb-4549-aa0c-a8380774fe9d",
   "metadata": {},
   "outputs": [],
   "source": [
    "import csv\n",
    "with open(\"presentation_schedule.csv\", \"w\", newline=\"\") as f:\n",
    "    writer = csv.writer(f)\n",
    "    writer.writerow([\"Group\", \"Start Time\", \"End Time\"])\n",
    "    writer.writerows(schedule)\n",
    "\n",
    "print(\"\\n✅ Schedule saved to 'presentation_schedule.csv'\")"
   ]
  },
  {
   "cell_type": "code",
   "execution_count": null,
   "id": "359e6b76-5f53-4066-a83e-782c17eeab70",
   "metadata": {},
   "outputs": [],
   "source": []
  }
 ],
 "metadata": {
  "kernelspec": {
   "display_name": "Python 3 (ipykernel)",
   "language": "python",
   "name": "python3"
  },
  "language_info": {
   "codemirror_mode": {
    "name": "ipython",
    "version": 3
   },
   "file_extension": ".py",
   "mimetype": "text/x-python",
   "name": "python",
   "nbconvert_exporter": "python",
   "pygments_lexer": "ipython3",
   "version": "3.13.0"
  }
 },
 "nbformat": 4,
 "nbformat_minor": 5
}
