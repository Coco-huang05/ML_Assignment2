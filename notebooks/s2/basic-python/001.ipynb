{
 "cells": [
  {
   "cell_type": "markdown",
   "id": "3d87aae6-f4e4-4d5c-8141-ced146c6f90b",
   "metadata": {},
   "source": [
    "# Basics"
   ]
  },
  {
   "cell_type": "code",
   "execution_count": 1,
   "id": "82597245-0b20-4772-8b45-c3e651810548",
   "metadata": {},
   "outputs": [
    {
     "name": "stdout",
     "output_type": "stream",
     "text": [
      "Hello\n"
     ]
    }
   ],
   "source": [
    "print(\"Hello\")"
   ]
  },
  {
   "cell_type": "code",
   "execution_count": 2,
   "id": "5f7f0b4a-7eaa-4b67-a2b2-63540171f53d",
   "metadata": {},
   "outputs": [
    {
     "data": {
      "text/plain": [
       "6"
      ]
     },
     "execution_count": 2,
     "metadata": {},
     "output_type": "execute_result"
    }
   ],
   "source": [
    "a = 6\n",
    "a"
   ]
  },
  {
   "cell_type": "code",
   "execution_count": 4,
   "id": "c8668b46-cd12-4235-a382-5f143c6af868",
   "metadata": {},
   "outputs": [],
   "source": [
    "b = 7"
   ]
  },
  {
   "cell_type": "code",
   "execution_count": 5,
   "id": "cb949084-f2bc-4428-9937-89f2444dc53d",
   "metadata": {},
   "outputs": [
    {
     "data": {
      "text/plain": [
       "13"
      ]
     },
     "execution_count": 5,
     "metadata": {},
     "output_type": "execute_result"
    }
   ],
   "source": [
    "a + b"
   ]
  },
  {
   "cell_type": "code",
   "execution_count": 6,
   "id": "1107c32a-59d4-4cd0-98fb-bdb82eee49c8",
   "metadata": {},
   "outputs": [
    {
     "data": {
      "text/plain": [
       "-1"
      ]
     },
     "execution_count": 6,
     "metadata": {},
     "output_type": "execute_result"
    }
   ],
   "source": [
    "a - b "
   ]
  },
  {
   "cell_type": "code",
   "execution_count": 7,
   "id": "d39f039d-3281-48a6-92ed-3f3f8eadba09",
   "metadata": {},
   "outputs": [
    {
     "data": {
      "text/plain": [
       "42"
      ]
     },
     "execution_count": 7,
     "metadata": {},
     "output_type": "execute_result"
    }
   ],
   "source": [
    "a * b"
   ]
  },
  {
   "cell_type": "code",
   "execution_count": 8,
   "id": "c231b372-83d0-4f59-b746-9f0e899d8c34",
   "metadata": {},
   "outputs": [
    {
     "data": {
      "text/plain": [
       "13"
      ]
     },
     "execution_count": 8,
     "metadata": {},
     "output_type": "execute_result"
    }
   ],
   "source": [
    "c = a + b\n",
    "c"
   ]
  },
  {
   "cell_type": "code",
   "execution_count": 9,
   "id": "9c8c02d2-3799-4da3-a2ce-d95d7dcc54c8",
   "metadata": {},
   "outputs": [
    {
     "data": {
      "text/plain": [
       "17.0"
      ]
     },
     "execution_count": 9,
     "metadata": {},
     "output_type": "execute_result"
    }
   ],
   "source": [
    "4 * 5 - 9 + 12/2"
   ]
  },
  {
   "cell_type": "code",
   "execution_count": 24,
   "id": "942decab-0343-4256-be9a-13cfc74ac80b",
   "metadata": {},
   "outputs": [],
   "source": [
    "inc = 3"
   ]
  },
  {
   "cell_type": "code",
   "execution_count": 30,
   "id": "3ebd5f0a-48ec-4a96-b929-2c6c0b35205b",
   "metadata": {},
   "outputs": [
    {
     "data": {
      "text/plain": [
       "3"
      ]
     },
     "execution_count": 30,
     "metadata": {},
     "output_type": "execute_result"
    }
   ],
   "source": [
    "inc\n"
   ]
  },
  {
   "cell_type": "code",
   "execution_count": 31,
   "id": "37697596-12b6-4aae-ba73-3a2161244541",
   "metadata": {},
   "outputs": [
    {
     "data": {
      "text/plain": [
       "6"
      ]
     },
     "execution_count": 31,
     "metadata": {},
     "output_type": "execute_result"
    }
   ],
   "source": [
    "inc1"
   ]
  },
  {
   "cell_type": "code",
   "execution_count": 28,
   "id": "c6df4b18-d4a3-42db-ae56-39e3a05d4d58",
   "metadata": {},
   "outputs": [],
   "source": [
    "inc1 = inc"
   ]
  },
  {
   "cell_type": "code",
   "execution_count": 29,
   "id": "b787e297-db5e-4f66-a73f-7add058f64f6",
   "metadata": {},
   "outputs": [],
   "source": [
    "inc1 *= 2"
   ]
  },
  {
   "cell_type": "markdown",
   "id": "2032d49a-615e-4af5-9fd0-d54f616a0cb9",
   "metadata": {},
   "source": [
    "# Lgoical"
   ]
  },
  {
   "cell_type": "code",
   "execution_count": 32,
   "id": "d8316169-dc00-401c-a1cc-8b7ef40dd1b3",
   "metadata": {},
   "outputs": [
    {
     "data": {
      "text/plain": [
       "True"
      ]
     },
     "execution_count": 32,
     "metadata": {},
     "output_type": "execute_result"
    }
   ],
   "source": [
    "True"
   ]
  },
  {
   "cell_type": "code",
   "execution_count": 33,
   "id": "14b4ebe8-b698-4017-86de-babbf13fc625",
   "metadata": {},
   "outputs": [
    {
     "data": {
      "text/plain": [
       "False"
      ]
     },
     "execution_count": 33,
     "metadata": {},
     "output_type": "execute_result"
    }
   ],
   "source": [
    "False"
   ]
  },
  {
   "cell_type": "code",
   "execution_count": 34,
   "id": "d1df206e-a774-40a3-aaff-db7dd6079a41",
   "metadata": {},
   "outputs": [
    {
     "data": {
      "text/plain": [
       "True"
      ]
     },
     "execution_count": 34,
     "metadata": {},
     "output_type": "execute_result"
    }
   ],
   "source": [
    "True and True"
   ]
  },
  {
   "cell_type": "code",
   "execution_count": 35,
   "id": "21c2936f-6b3a-4431-96c8-1d42be123248",
   "metadata": {},
   "outputs": [
    {
     "data": {
      "text/plain": [
       "False"
      ]
     },
     "execution_count": 35,
     "metadata": {},
     "output_type": "execute_result"
    }
   ],
   "source": [
    "True and False"
   ]
  },
  {
   "cell_type": "code",
   "execution_count": 36,
   "id": "86662008-bc6d-4385-828c-2c105f472053",
   "metadata": {},
   "outputs": [
    {
     "data": {
      "text/plain": [
       "True"
      ]
     },
     "execution_count": 36,
     "metadata": {},
     "output_type": "execute_result"
    }
   ],
   "source": [
    "True or False"
   ]
  },
  {
   "cell_type": "code",
   "execution_count": 37,
   "id": "489fe6eb-100c-4e41-aebe-58befc723e52",
   "metadata": {},
   "outputs": [
    {
     "data": {
      "text/plain": [
       "True"
      ]
     },
     "execution_count": 37,
     "metadata": {},
     "output_type": "execute_result"
    }
   ],
   "source": [
    "3 == 3"
   ]
  },
  {
   "cell_type": "code",
   "execution_count": 38,
   "id": "4fea84e8-9bdc-4796-b26d-f7871b0f8923",
   "metadata": {},
   "outputs": [
    {
     "data": {
      "text/plain": [
       "True"
      ]
     },
     "execution_count": 38,
     "metadata": {},
     "output_type": "execute_result"
    }
   ],
   "source": [
    "3 > 2"
   ]
  },
  {
   "cell_type": "code",
   "execution_count": 39,
   "id": "295c7f6e-a4da-47b3-a0da-c2995f95087d",
   "metadata": {},
   "outputs": [
    {
     "data": {
      "text/plain": [
       "False"
      ]
     },
     "execution_count": 39,
     "metadata": {},
     "output_type": "execute_result"
    }
   ],
   "source": [
    "3  > 10"
   ]
  },
  {
   "cell_type": "code",
   "execution_count": 40,
   "id": "f052ec3a-ce69-47b8-8235-978c7587e47c",
   "metadata": {},
   "outputs": [],
   "source": [
    "outPut = True or False"
   ]
  },
  {
   "cell_type": "code",
   "execution_count": 41,
   "id": "b5db8bfd-0260-4835-95bb-438d6a4a6e0a",
   "metadata": {},
   "outputs": [
    {
     "data": {
      "text/plain": [
       "True"
      ]
     },
     "execution_count": 41,
     "metadata": {},
     "output_type": "execute_result"
    }
   ],
   "source": [
    "outPut"
   ]
  },
  {
   "cell_type": "code",
   "execution_count": 42,
   "id": "e7a6cdaf-513e-4558-b15d-0a25bc0ea09e",
   "metadata": {},
   "outputs": [
    {
     "data": {
      "text/plain": [
       "False"
      ]
     },
     "execution_count": 42,
     "metadata": {},
     "output_type": "execute_result"
    }
   ],
   "source": [
    "40 != 40"
   ]
  },
  {
   "cell_type": "markdown",
   "id": "28a199de-5e11-4045-b950-6124e3ef575e",
   "metadata": {},
   "source": [
    "# Strings"
   ]
  },
  {
   "cell_type": "code",
   "execution_count": 46,
   "id": "7df83548-4e87-4d34-a47c-54eb1d8aeaa7",
   "metadata": {},
   "outputs": [],
   "source": [
    "small = \"i am upper cased\"\n",
    "# small\n",
    "upperS = small.upper()"
   ]
  },
  {
   "cell_type": "code",
   "execution_count": 48,
   "id": "c35dc351-44ff-4b4e-84aa-45ac7110c559",
   "metadata": {},
   "outputs": [
    {
     "data": {
      "text/plain": [
       "'i am upper cased'"
      ]
     },
     "execution_count": 48,
     "metadata": {},
     "output_type": "execute_result"
    }
   ],
   "source": [
    "small"
   ]
  },
  {
   "cell_type": "code",
   "execution_count": 50,
   "id": "95c79750-fa76-4cac-bacf-2d2ab32df1eb",
   "metadata": {},
   "outputs": [
    {
     "data": {
      "text/plain": [
       "'I AM UPPER CASED'"
      ]
     },
     "execution_count": 50,
     "metadata": {},
     "output_type": "execute_result"
    }
   ],
   "source": [
    "upperS"
   ]
  },
  {
   "cell_type": "code",
   "execution_count": 49,
   "id": "c543d4e1-3310-4ea5-bcca-85b75898dbf7",
   "metadata": {},
   "outputs": [
    {
     "data": {
      "text/plain": [
       "'i am upper cased'"
      ]
     },
     "execution_count": 49,
     "metadata": {},
     "output_type": "execute_result"
    }
   ],
   "source": [
    "upperS.lower()"
   ]
  },
  {
   "cell_type": "code",
   "execution_count": null,
   "id": "0a11d8ee-7c74-4d7f-a954-dec84ffecbb4",
   "metadata": {},
   "outputs": [],
   "source": [
    "\n",
    "\n",
    "large = \"I AM LOWER CASED\"\n",
    "# print(large.lower())"
   ]
  },
  {
   "cell_type": "code",
   "execution_count": 52,
   "id": "750de023-7a6c-40a7-91bd-1bc384fc37ae",
   "metadata": {},
   "outputs": [
    {
     "data": {
      "text/plain": [
       "'There is a space at the end    '"
      ]
     },
     "execution_count": 52,
     "metadata": {},
     "output_type": "execute_result"
    }
   ],
   "source": [
    "some_sentence = \"There is a space at the end    \"\n",
    "some_sentence"
   ]
  },
  {
   "cell_type": "code",
   "execution_count": 55,
   "id": "d373c69a-e89c-41fe-b6d2-e6bbd54108c3",
   "metadata": {},
   "outputs": [],
   "source": [
    "someSente2 = some_sentence.rstrip()"
   ]
  },
  {
   "cell_type": "code",
   "execution_count": 56,
   "id": "f2e73a90-d2a0-4adf-aca8-26759aa72b64",
   "metadata": {},
   "outputs": [
    {
     "data": {
      "text/plain": [
       "'There is a space at the end'"
      ]
     },
     "execution_count": 56,
     "metadata": {},
     "output_type": "execute_result"
    }
   ],
   "source": [
    "someSente2"
   ]
  },
  {
   "cell_type": "code",
   "execution_count": 57,
   "id": "5a837ad3-09d7-44d1-bc13-62f246ad330d",
   "metadata": {},
   "outputs": [
    {
     "data": {
      "text/plain": [
       "'There is a space at the end&&'"
      ]
     },
     "execution_count": 57,
     "metadata": {},
     "output_type": "execute_result"
    }
   ],
   "source": [
    "some_sentence = \"There is a space at the end&&\"\n",
    "some_sentence"
   ]
  },
  {
   "cell_type": "code",
   "execution_count": 58,
   "id": "361cb584-fe13-4880-81b8-9191cfa049e9",
   "metadata": {},
   "outputs": [],
   "source": [
    "someSente2 = some_sentence.rstrip(\"&&\")"
   ]
  },
  {
   "cell_type": "code",
   "execution_count": 59,
   "id": "d638b1b1-4dae-418f-a0b6-e3f3f97366a3",
   "metadata": {},
   "outputs": [
    {
     "data": {
      "text/plain": [
       "'There is a space at the end'"
      ]
     },
     "execution_count": 59,
     "metadata": {},
     "output_type": "execute_result"
    }
   ],
   "source": [
    "someSente2"
   ]
  },
  {
   "cell_type": "code",
   "execution_count": 61,
   "id": "64320c56-f484-49de-8600-12910ff2f179",
   "metadata": {},
   "outputs": [
    {
     "data": {
      "text/plain": [
       "'   There is space at the start'"
      ]
     },
     "execution_count": 61,
     "metadata": {},
     "output_type": "execute_result"
    }
   ],
   "source": [
    "\n",
    "start = \"   There is space at the start\"\n",
    "start"
   ]
  },
  {
   "cell_type": "code",
   "execution_count": 62,
   "id": "98ff253a-50bb-4837-819a-eb9f102557c0",
   "metadata": {},
   "outputs": [
    {
     "data": {
      "text/plain": [
       "'There is space at the start'"
      ]
     },
     "execution_count": 62,
     "metadata": {},
     "output_type": "execute_result"
    }
   ],
   "source": [
    "start.lstrip()"
   ]
  },
  {
   "cell_type": "code",
   "execution_count": 63,
   "id": "602ec3c5-8703-472c-aa41-bd20306660ce",
   "metadata": {},
   "outputs": [
    {
     "data": {
      "text/plain": [
       "'   Trim whitespaces  '"
      ]
     },
     "execution_count": 63,
     "metadata": {},
     "output_type": "execute_result"
    }
   ],
   "source": [
    "spaces = \"   Trim whitespaces  \"\n",
    "spaces"
   ]
  },
  {
   "cell_type": "code",
   "execution_count": 65,
   "id": "ca8c67ae-1df7-474b-88cf-a2f1c0e69004",
   "metadata": {},
   "outputs": [],
   "source": [
    "var1 = spaces.strip()"
   ]
  },
  {
   "cell_type": "code",
   "execution_count": 66,
   "id": "7b674057-3f95-428c-819c-00f23b3d2e52",
   "metadata": {},
   "outputs": [
    {
     "data": {
      "text/plain": [
       "'Trim whitespaces'"
      ]
     },
     "execution_count": 66,
     "metadata": {},
     "output_type": "execute_result"
    }
   ],
   "source": [
    "var1"
   ]
  },
  {
   "cell_type": "code",
   "execution_count": 67,
   "id": "cf2f9cad-ceeb-47b7-9d00-97f917b4f161",
   "metadata": {},
   "outputs": [
    {
     "data": {
      "text/plain": [
       "'m'"
      ]
     },
     "execution_count": 67,
     "metadata": {},
     "output_type": "execute_result"
    }
   ],
   "source": [
    "var1[3]"
   ]
  },
  {
   "cell_type": "code",
   "execution_count": 68,
   "id": "e624c86f-718a-4d5e-87a0-a85b3b5b9a3c",
   "metadata": {},
   "outputs": [],
   "source": [
    "batch = \"5 oranges 3 monkeys n\""
   ]
  },
  {
   "cell_type": "code",
   "execution_count": 69,
   "id": "0fb29856-47ad-4af0-8c41-e7e8ea9741a5",
   "metadata": {},
   "outputs": [
    {
     "data": {
      "text/plain": [
       "'5 oranges'"
      ]
     },
     "execution_count": 69,
     "metadata": {},
     "output_type": "execute_result"
    }
   ],
   "source": [
    "batch[:9]"
   ]
  },
  {
   "cell_type": "code",
   "execution_count": 70,
   "id": "cbce708a-6829-4ac0-b18a-4d1c3f85d1ab",
   "metadata": {},
   "outputs": [
    {
     "data": {
      "text/plain": [
       "'5 oranges 3 monkeys'"
      ]
     },
     "execution_count": 70,
     "metadata": {},
     "output_type": "execute_result"
    }
   ],
   "source": [
    "batch[:-2]"
   ]
  },
  {
   "cell_type": "code",
   "execution_count": 71,
   "id": "7aa7e6fd-fb08-45fe-8b40-2f9c148fe66c",
   "metadata": {},
   "outputs": [],
   "source": [
    "nums = '123456789'"
   ]
  },
  {
   "cell_type": "code",
   "execution_count": 72,
   "id": "573807d0-a145-4966-a806-4ea8b98ee82d",
   "metadata": {},
   "outputs": [
    {
     "data": {
      "text/plain": [
       "'2468'"
      ]
     },
     "execution_count": 72,
     "metadata": {},
     "output_type": "execute_result"
    }
   ],
   "source": [
    "even_nums = nums[1::2]\n",
    "even_nums"
   ]
  },
  {
   "cell_type": "code",
   "execution_count": 73,
   "id": "aa8c041e-182c-45e1-b55f-d0f2c3e795a3",
   "metadata": {},
   "outputs": [
    {
     "data": {
      "text/plain": [
       "'13579'"
      ]
     },
     "execution_count": 73,
     "metadata": {},
     "output_type": "execute_result"
    }
   ],
   "source": [
    "oddNums = nums[0::2]\n",
    "oddNums"
   ]
  },
  {
   "cell_type": "code",
   "execution_count": 74,
   "id": "81c9eb7c-54ce-468d-b514-a99f02a13279",
   "metadata": {},
   "outputs": [
    {
     "data": {
      "text/plain": [
       "'13579'"
      ]
     },
     "execution_count": 74,
     "metadata": {},
     "output_type": "execute_result"
    }
   ],
   "source": [
    "nums[::2]"
   ]
  },
  {
   "cell_type": "code",
   "execution_count": 75,
   "id": "730ef505-8201-43f8-8a0e-9034f172613b",
   "metadata": {},
   "outputs": [],
   "source": [
    "firstName = \"Jason\"\n",
    "lastName= \"Jafari\""
   ]
  },
  {
   "cell_type": "code",
   "execution_count": 76,
   "id": "d2d8cb0d-d4a2-4c8a-85e3-32028e5e9334",
   "metadata": {},
   "outputs": [
    {
     "data": {
      "text/plain": [
       "'Jason'"
      ]
     },
     "execution_count": 76,
     "metadata": {},
     "output_type": "execute_result"
    }
   ],
   "source": [
    "firstName"
   ]
  },
  {
   "cell_type": "code",
   "execution_count": 77,
   "id": "43cd7b67-fba2-449a-b447-c8ec8291f9d6",
   "metadata": {},
   "outputs": [
    {
     "data": {
      "text/plain": [
       "'Jafari'"
      ]
     },
     "execution_count": 77,
     "metadata": {},
     "output_type": "execute_result"
    }
   ],
   "source": [
    "lastName"
   ]
  },
  {
   "cell_type": "code",
   "execution_count": 79,
   "id": "997e6967-d07c-4c1b-aca9-cd1b32ffc842",
   "metadata": {},
   "outputs": [
    {
     "data": {
      "text/plain": [
       "'Jason Jafari'"
      ]
     },
     "execution_count": 79,
     "metadata": {},
     "output_type": "execute_result"
    }
   ],
   "source": [
    "firstName + \" \" + lastName"
   ]
  },
  {
   "cell_type": "code",
   "execution_count": 80,
   "id": "65dba87f-4a16-4e9f-ab4d-f1c67b989893",
   "metadata": {},
   "outputs": [
    {
     "data": {
      "text/plain": [
       "'Jason Jafari'"
      ]
     },
     "execution_count": 80,
     "metadata": {},
     "output_type": "execute_result"
    }
   ],
   "source": [
    "f\"{firstName} {lastName}\""
   ]
  },
  {
   "cell_type": "code",
   "execution_count": 82,
   "id": "bded956e-b828-43e8-aa0d-cdb2a0c8b7ab",
   "metadata": {},
   "outputs": [
    {
     "data": {
      "text/plain": [
       "'Jason Jafari'"
      ]
     },
     "execution_count": 82,
     "metadata": {},
     "output_type": "execute_result"
    }
   ],
   "source": [
    "\"{0} {1}\".format(firstName, lastName)"
   ]
  },
  {
   "cell_type": "code",
   "execution_count": null,
   "id": "f260050d-0862-4391-b20e-9e258b69c3ca",
   "metadata": {},
   "outputs": [],
   "source": []
  }
 ],
 "metadata": {
  "kernelspec": {
   "display_name": "Python 3 (ipykernel)",
   "language": "python",
   "name": "python3"
  },
  "language_info": {
   "codemirror_mode": {
    "name": "ipython",
    "version": 3
   },
   "file_extension": ".py",
   "mimetype": "text/x-python",
   "name": "python",
   "nbconvert_exporter": "python",
   "pygments_lexer": "ipython3",
   "version": "3.12.4"
  }
 },
 "nbformat": 4,
 "nbformat_minor": 5
}
