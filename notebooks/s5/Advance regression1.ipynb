{
 "cells": [
  {
   "cell_type": "code",
   "execution_count": null,
   "id": "4e3ccbfa-f77a-4106-8511-a1d542a201b8",
   "metadata": {},
   "outputs": [],
   "source": [
    "import numpy as np\n",
    "import pandas as pd\n",
    "import matplotlib.pyplot as plt"
   ]
  },
  {
   "cell_type": "code",
   "execution_count": null,
   "id": "4b57efb0-3312-4309-82ac-65352ec70160",
   "metadata": {},
   "outputs": [],
   "source": [
    "# https://www.statsmodels.org/stable/index.html\n",
    "import statsmodels.api as sm"
   ]
  },
  {
   "cell_type": "code",
   "execution_count": null,
   "id": "b01fa032-6521-439c-90e1-71f859d2ab8e",
   "metadata": {},
   "outputs": [],
   "source": [
    "import warnings\n",
    "warnings.filterwarnings(\"ignore\")"
   ]
  },
  {
   "cell_type": "code",
   "execution_count": null,
   "id": "8ebe01ca-c09e-42bd-bb51-e686eca5a812",
   "metadata": {},
   "outputs": [],
   "source": [
    "from functools import partial"
   ]
  },
  {
   "cell_type": "code",
   "execution_count": null,
   "id": "059eeedd-dadd-4c0d-9c54-4d7255e6bd6a",
   "metadata": {},
   "outputs": [],
   "source": [
    "from dotenv import load_dotenv\n",
    "\n",
    "from pathlib import Path\n",
    "\n",
    "env_path = Path(\"../../.env-live\")\n",
    "\n",
    "if env_path.exists():\n",
    "    print('envs Loaded')\n",
    "    load_dotenv(dotenv_path=env_path)\n",
    "from jrjModelRegistry.jrjModelRegistry import registerAJrjModel"
   ]
  },
  {
   "cell_type": "code",
   "execution_count": null,
   "id": "a91a561c-00df-4dfa-b17f-6012d37f7ebb",
   "metadata": {},
   "outputs": [],
   "source": [
    "sallaryMisDf = pd.read_excel(\"https://www.dropbox.com/scl/fi/zt2vtwhpz8ndblsxqdqx1/Salary_MIS.xlsx?rlkey=2uk6m7m9w90isv6zsynhhhpyv&st=gxumjns5&dl=1\")"
   ]
  },
  {
   "cell_type": "code",
   "execution_count": null,
   "id": "f61f44a5-e798-44ae-8292-f9077fcbcba7",
   "metadata": {},
   "outputs": [],
   "source": [
    "sallaryMisDf"
   ]
  },
  {
   "cell_type": "code",
   "execution_count": null,
   "id": "a69d9ed0-38e2-4470-bfc3-21b0b84cfa2c",
   "metadata": {},
   "outputs": [],
   "source": [
    "sallaryMisDf.shape"
   ]
  },
  {
   "cell_type": "code",
   "execution_count": null,
   "id": "5219a144-9e69-4315-b8df-930727cdc53e",
   "metadata": {},
   "outputs": [],
   "source": [
    "sallaryMisDf.describe()"
   ]
  },
  {
   "cell_type": "code",
   "execution_count": null,
   "id": "74580721-0859-4644-90e8-ef2b172c0e53",
   "metadata": {},
   "outputs": [],
   "source": [
    "sallaryMisDf.shape"
   ]
  },
  {
   "cell_type": "code",
   "execution_count": null,
   "id": "299fdc46-94c5-4fae-87b9-52f24f35911e",
   "metadata": {},
   "outputs": [],
   "source": [
    "sm.add_constant(sallaryMisDf[[\"GPA\", \"MIS\", \"Statistics\"]])"
   ]
  },
  {
   "cell_type": "code",
   "execution_count": null,
   "id": "f9f2ebc5-ad03-42c5-a694-6638d0b1ec38",
   "metadata": {},
   "outputs": [],
   "source": [
    "salaryRegModel1 = sm.OLS(\n",
    "  sallaryMisDf[\"Salary\"],\n",
    "  sm.add_constant(sallaryMisDf[[\"GPA\", \"MIS\", \"Statistics\"]])\n",
    ")"
   ]
  },
  {
   "cell_type": "code",
   "execution_count": null,
   "id": "412c9836-3f88-4cf5-84c1-410cf92fbc81",
   "metadata": {},
   "outputs": [],
   "source": [
    "salaryRegModel1Fit = salaryRegModel1.fit()"
   ]
  },
  {
   "cell_type": "code",
   "execution_count": null,
   "id": "e604a267-4174-4930-9bb2-cecd59128c55",
   "metadata": {},
   "outputs": [],
   "source": [
    "print(salaryRegModel1Fit.summary())"
   ]
  },
  {
   "cell_type": "code",
   "execution_count": null,
   "id": "532535d8-4c8e-46c4-b4ae-fbdfcdb59747",
   "metadata": {},
   "outputs": [],
   "source": [
    "sallaryMisDf"
   ]
  },
  {
   "cell_type": "code",
   "execution_count": null,
   "id": "da5ba7d2-498f-463c-9bcb-9cc3326f3246",
   "metadata": {},
   "outputs": [],
   "source": [
    "salaryRegModel1SampleData = {\n",
    "    \"GPA\": [3.53, 3.04, 3.65],\n",
    "    \"MIS\": [1, 1, 0],\n",
    "    \"Statistics\": [0,1, 0]\n",
    "}"
   ]
  },
  {
   "cell_type": "code",
   "execution_count": null,
   "id": "4989e117-2f92-4ec2-803e-a8664b19d91b",
   "metadata": {},
   "outputs": [],
   "source": [
    "def salaryRegModel1Transformer(dataForTransfer = None):\n",
    "    import pandas as pd\n",
    "    import statsmodels.api as sm\n",
    "    dfTransformer = pd.DataFrame(dataForTransfer)\n",
    "    dfTransformer = sm.add_constant(dfTransformer[['GPA', 'MIS', 'Statistics']])\n",
    "    return dfTransformer"
   ]
  },
  {
   "cell_type": "code",
   "execution_count": null,
   "id": "d2e9776c-45cf-4d79-83f4-0601130931cb",
   "metadata": {},
   "outputs": [],
   "source": [
    "def salaryRegModel1MainPredictor(self, transformedData):\n",
    "    return self.predict(transformedData)"
   ]
  },
  {
   "cell_type": "code",
   "execution_count": null,
   "id": "c23c3812-84bc-4b72-ab53-8fa811df9efe",
   "metadata": {},
   "outputs": [],
   "source": [
    "salaryRegModel1Fit.mainPredictor = partial(salaryRegModel1MainPredictor, salaryRegModel1Fit)"
   ]
  },
  {
   "cell_type": "code",
   "execution_count": null,
   "id": "1c7d8959-f5bd-4e63-a100-9f72752fee21",
   "metadata": {},
   "outputs": [],
   "source": [
    "salaryRegModel1Fit.transformer = salaryRegModel1Transformer"
   ]
  },
  {
   "cell_type": "code",
   "execution_count": null,
   "id": "0d8127fa-3ced-45ac-954a-bee39c0a5101",
   "metadata": {},
   "outputs": [],
   "source": [
    "test1 = salaryRegModel1Fit.transformer(salaryRegModel1SampleData)\n",
    "test1\n",
    "# salaryRegModel1Fit.mainPredictor(test1)"
   ]
  },
  {
   "cell_type": "code",
   "execution_count": null,
   "id": "dc10a2ff-0cb8-4eb9-b1cb-b1ea93099666",
   "metadata": {},
   "outputs": [],
   "source": [
    "salaryRegModel1Fit.mainPredictor(test1)"
   ]
  },
  {
   "cell_type": "code",
   "execution_count": null,
   "id": "a68edd3a-22da-4b26-84b0-6e7d403d19ac",
   "metadata": {},
   "outputs": [],
   "source": [
    "salaryRegModel1FitMetadata = {\n",
    "    \"modelName\":f\"salaryRegModel1Fit\",\n",
    "    \"version\":\"1.0.1\",\n",
    "    \"params\": salaryRegModel1Fit.params.to_dict(),\n",
    "    \"score\": float(salaryRegModel1Fit.rsquared),\n",
    "    \"modelLibraray\": 'sm.OLS',\n",
    "    \"libraryMetadata\": {\n",
    "        \"pvalues\": salaryRegModel1Fit.pvalues.to_dict(),\n",
    "        \"r_squared\": float(salaryRegModel1Fit.rsquared),\n",
    "        \"adj_r_squared\": float(salaryRegModel1Fit.rsquared_adj)\n",
    "    },\n",
    "\n",
    "    \"sampleData\": {\n",
    "        \"dataForTransfer\": salaryRegModel1SampleData\n",
    "    }\n",
    "}\n",
    "salaryRegModel1FitMetadata"
   ]
  },
  {
   "cell_type": "code",
   "execution_count": null,
   "id": "68c07df1-b92f-47d2-9e01-641356e6d991",
   "metadata": {},
   "outputs": [],
   "source": [
    "registerAJrjModel(salaryRegModel1Fit, salaryRegModel1FitMetadata)"
   ]
  },
  {
   "cell_type": "code",
   "execution_count": null,
   "id": "c469eb9a-65ae-401c-b042-a5566de095de",
   "metadata": {},
   "outputs": [],
   "source": [
    "sallaryMisDf"
   ]
  },
  {
   "cell_type": "code",
   "execution_count": null,
   "id": "bef410c3-df6e-44a0-98d7-6689dd78378f",
   "metadata": {},
   "outputs": [],
   "source": [
    "sallaryMisDf[\"misXStatistics\"] = sallaryMisDf[\"MIS\"] * sallaryMisDf[\"Statistics\"]\n",
    "sallaryMisDf['misXStatistics1'] = sallaryMisDf.apply(lambda row: row['MIS'] * row['Statistics'], axis=1)\n",
    "\n",
    "sallaryMisDf"
   ]
  },
  {
   "cell_type": "code",
   "execution_count": null,
   "id": "c202e0a7-d558-4704-943b-e43b39feec6f",
   "metadata": {},
   "outputs": [],
   "source": [
    "salaryRegModel2 = sm.OLS(\n",
    "  sallaryMisDf[\"Salary\"],\n",
    "  sm.add_constant(\n",
    "      sallaryMisDf[[\n",
    "          \"GPA\",\n",
    "          \"MIS\",\n",
    "          \"Statistics\",\n",
    "          \"misXStatistics1\"\n",
    "      ]]\n",
    "  )\n",
    ")"
   ]
  },
  {
   "cell_type": "code",
   "execution_count": null,
   "id": "a9569f6e-4727-4187-b70f-3c9cf94220f5",
   "metadata": {},
   "outputs": [],
   "source": [
    "salaryRegModel2Fit = salaryRegModel2.fit()"
   ]
  },
  {
   "cell_type": "code",
   "execution_count": null,
   "id": "803f5f04-6fbd-4ab7-abd1-bcf200689f89",
   "metadata": {},
   "outputs": [],
   "source": [
    "print(salaryRegModel2Fit.summary())"
   ]
  },
  {
   "cell_type": "code",
   "execution_count": null,
   "id": "8159c687-527e-4e1f-a3b9-22019180a633",
   "metadata": {},
   "outputs": [],
   "source": [
    "salaryRegModel2SampleData = salaryRegModel1SampleData"
   ]
  },
  {
   "cell_type": "code",
   "execution_count": null,
   "id": "84eaf7a9-07e0-4880-8ae7-683be1909ff7",
   "metadata": {},
   "outputs": [],
   "source": [
    "def salaryRegModel2Transformer(dataForTransfer = None):\n",
    "    import pandas as pd\n",
    "    import statsmodels.api as sm\n",
    "    dfTransformer = pd.DataFrame(dataForTransfer)\n",
    "    dfTransformer['misXStatistics1'] = dfTransformer.apply(lambda row: row['MIS'] * row['Statistics'], axis=1)\n",
    "    dfTransformer = sm.add_constant(dfTransformer[['GPA', 'MIS', 'Statistics', 'misXStatistics1']])\n",
    "    return dfTransformer"
   ]
  },
  {
   "cell_type": "code",
   "execution_count": null,
   "id": "06ebe00c-faa0-4ecd-b83d-b0a6ecd68514",
   "metadata": {},
   "outputs": [],
   "source": [
    "salaryRegModel2Fit.transformer = salaryRegModel2Transformer"
   ]
  },
  {
   "cell_type": "code",
   "execution_count": null,
   "id": "3e09092e-748a-4605-9785-3219f0221264",
   "metadata": {},
   "outputs": [],
   "source": [
    "salaryRegModel2Fit.mainPredictor = partial(salaryRegModel1MainPredictor, salaryRegModel2Fit)"
   ]
  },
  {
   "cell_type": "code",
   "execution_count": null,
   "id": "ef3fcaf3-cc96-4bb2-b574-7ff92e4bad43",
   "metadata": {},
   "outputs": [],
   "source": [
    "test2 = salaryRegModel2Fit.transformer(salaryRegModel2SampleData)\n",
    "test2"
   ]
  },
  {
   "cell_type": "code",
   "execution_count": null,
   "id": "52c242ca-7ce0-4f5d-a9e4-d37f45f78396",
   "metadata": {},
   "outputs": [],
   "source": [
    "salaryRegModel2Fit.mainPredictor(test2)"
   ]
  },
  {
   "cell_type": "code",
   "execution_count": null,
   "id": "7d0810ac-541e-48b1-a888-6a4ebaf90414",
   "metadata": {},
   "outputs": [],
   "source": [
    "salaryRegModel2FitMetadata = {\n",
    "    \"modelName\":f\"salaryRegModel2Fit\",\n",
    "    \"version\":\"1.0.1\",\n",
    "    \"params\": salaryRegModel2Fit.params.to_dict(),\n",
    "    \"score\": float(salaryRegModel2Fit.rsquared),\n",
    "    \"modelLibraray\": 'sm.OLS',\n",
    "    \"libraryMetadata\": {\n",
    "        \"pvalues\": salaryRegModel2Fit.pvalues.to_dict(),\n",
    "        \"r_squared\": float(salaryRegModel2Fit.rsquared),\n",
    "        \"adj_r_squared\": float(salaryRegModel2Fit.rsquared_adj)\n",
    "    },\n",
    "\n",
    "    \"sampleData\": {\n",
    "        \"dataForTransfer\": salaryRegModel2SampleData\n",
    "    }\n",
    "}\n",
    "salaryRegModel2FitMetadata"
   ]
  },
  {
   "cell_type": "code",
   "execution_count": null,
   "id": "0f73e07b-5701-4f74-b55e-32029ff0f955",
   "metadata": {},
   "outputs": [],
   "source": [
    "registerAJrjModel(salaryRegModel2Fit, salaryRegModel2FitMetadata)"
   ]
  },
  {
   "cell_type": "code",
   "execution_count": null,
   "id": "1c9ea991-1b99-4de4-95b6-691fcb8b9670",
   "metadata": {},
   "outputs": [],
   "source": [
    "sallaryMisDf['misXGpa'] = sallaryMisDf.apply(lambda row: row['MIS'] * row['GPA'], axis=1)\n",
    "\n",
    "sallaryMisDf\n"
   ]
  },
  {
   "cell_type": "code",
   "execution_count": null,
   "id": "079dd30c-b259-4d8c-b052-ccbd95c00228",
   "metadata": {},
   "outputs": [],
   "source": [
    "salaryRegModel3 = sm.OLS(\n",
    "  sallaryMisDf[\"Salary\"],\n",
    "  sm.add_constant(\n",
    "      sallaryMisDf[[\n",
    "          \"GPA\",\n",
    "          \"MIS\",\n",
    "          \"Statistics\",\n",
    "          \"misXGpa\"\n",
    "      ]]\n",
    "  )\n",
    ")"
   ]
  },
  {
   "cell_type": "code",
   "execution_count": null,
   "id": "1bd0c7dc-57db-486b-a986-8b46f0098764",
   "metadata": {},
   "outputs": [],
   "source": [
    "salaryRegModel3Fit = salaryRegModel3.fit()"
   ]
  },
  {
   "cell_type": "code",
   "execution_count": null,
   "id": "839d701f-e6e9-4a13-a611-03abeffa7daf",
   "metadata": {},
   "outputs": [],
   "source": [
    "print(salaryRegModel3Fit.summary())"
   ]
  },
  {
   "cell_type": "code",
   "execution_count": null,
   "id": "d8a898bf-434e-4f01-9de9-5096aba52556",
   "metadata": {},
   "outputs": [],
   "source": [
    "salaryRegModel3Fit = salaryRegModel3.fit()"
   ]
  },
  {
   "cell_type": "code",
   "execution_count": null,
   "id": "3946074e-0796-452c-8c40-29af3c9f5b12",
   "metadata": {},
   "outputs": [],
   "source": [
    "print(salaryRegModel3Fit.summary())"
   ]
  },
  {
   "cell_type": "code",
   "execution_count": null,
   "id": "f4b0552c-beec-480e-b06f-5f8eec606cc1",
   "metadata": {},
   "outputs": [],
   "source": [
    "sallaryMisDf['statisticsXGpa'] = sallaryMisDf.apply(lambda row: row['Statistics'] * row['GPA'], axis=1)\n",
    "\n",
    "sallaryMisDf"
   ]
  },
  {
   "cell_type": "code",
   "execution_count": null,
   "id": "18ebdb71-fd7e-4a15-9cda-f8548b277824",
   "metadata": {},
   "outputs": [],
   "source": [
    "salaryRegModel4 = sm.OLS(\n",
    "  sallaryMisDf[\"Salary\"],\n",
    "  sm.add_constant(\n",
    "      sallaryMisDf[[\n",
    "          \"GPA\",\n",
    "          \"MIS\",\n",
    "          \"Statistics\",\n",
    "          \"statisticsXGpa\"\n",
    "      ]]\n",
    "  )\n",
    ")"
   ]
  },
  {
   "cell_type": "code",
   "execution_count": null,
   "id": "776b0f8e-e871-48dc-af0e-fcbeb4fd5b17",
   "metadata": {},
   "outputs": [],
   "source": [
    "salaryRegModel4Fit = salaryRegModel4.fit()"
   ]
  },
  {
   "cell_type": "code",
   "execution_count": null,
   "id": "d26c6a1c-cb61-4595-a220-4f8f6bd1aa63",
   "metadata": {},
   "outputs": [],
   "source": [
    "print(salaryRegModel4Fit.summary())"
   ]
  },
  {
   "cell_type": "code",
   "execution_count": null,
   "id": "51491d80-ac4a-4177-aad6-1e8bb8b58766",
   "metadata": {},
   "outputs": [],
   "source": [
    "salaryRegModel5 = sm.OLS(\n",
    "  sallaryMisDf[\"Salary\"],\n",
    "  sm.add_constant(\n",
    "      sallaryMisDf[[\n",
    "          \"GPA\",\n",
    "          \"MIS\",\n",
    "          \"Statistics\",\n",
    "          \"misXStatistics1\",\n",
    "          \"misXGpa\",\n",
    "          \"statisticsXGpa\"\n",
    "      ]]\n",
    "  )\n",
    ")"
   ]
  },
  {
   "cell_type": "code",
   "execution_count": null,
   "id": "38bc8e69-2e22-487b-a7a4-c6ac4d22ef2a",
   "metadata": {},
   "outputs": [],
   "source": [
    "salaryRegModel5Fit = salaryRegModel5.fit()"
   ]
  },
  {
   "cell_type": "code",
   "execution_count": null,
   "id": "db404344-d2bc-447c-b9fd-ccf12835dfc8",
   "metadata": {},
   "outputs": [],
   "source": [
    "print(salaryRegModel5Fit.summary())"
   ]
  },
  {
   "cell_type": "code",
   "execution_count": null,
   "id": "8c543f06-ed91-43c0-92a1-5fb04be5d8ce",
   "metadata": {},
   "outputs": [],
   "source": [
    "salaryRegModel6 = sm.OLS(\n",
    "  sallaryMisDf[\"Salary\"],\n",
    "  sm.add_constant(\n",
    "      sallaryMisDf[[\n",
    "          \"GPA\",\n",
    "          # \"MIS\",\n",
    "          \"Statistics\",\n",
    "          \"misXStatistics1\",\n",
    "          # \"misXGpa\",\n",
    "          # \"statisticsXGpa\"\n",
    "      ]]\n",
    "  )\n",
    ")"
   ]
  },
  {
   "cell_type": "code",
   "execution_count": null,
   "id": "6eaa4ed1-6930-4772-a261-d68b643603e8",
   "metadata": {},
   "outputs": [],
   "source": [
    "salaryRegModel6Fit = salaryRegModel6.fit()"
   ]
  },
  {
   "cell_type": "code",
   "execution_count": null,
   "id": "b07cb92f-edef-48b5-bba4-66093538d40e",
   "metadata": {},
   "outputs": [],
   "source": [
    "print(salaryRegModel6Fit.summary())"
   ]
  },
  {
   "cell_type": "markdown",
   "id": "e15ca44d-4460-4bac-acdf-5465122e3f36",
   "metadata": {},
   "source": [
    "## AFTER AREFULLY LOOKUP WE RELIZED  salaryRegModel4Fit SO LETS KEEP IT AS THE BEST"
   ]
  },
  {
   "cell_type": "code",
   "execution_count": null,
   "id": "8efe236d-36e0-4c30-a459-bd5eb05dcf00",
   "metadata": {},
   "outputs": [],
   "source": [
    "def salaryRegModel4Transformer(dataForTransfer = None):\n",
    "    import pandas as pd\n",
    "    import statsmodels.api as sm\n",
    "    dfTransformer = pd.DataFrame(dataForTransfer)\n",
    "    dfTransformer['statisticsXGpa'] = dfTransformer.apply(lambda row: row['Statistics'] * row['GPA'], axis=1)\n",
    "    dfTransformer = sm.add_constant(dfTransformer[['GPA', 'MIS', 'Statistics', 'statisticsXGpa']])\n",
    "    return dfTransformer"
   ]
  },
  {
   "cell_type": "code",
   "execution_count": null,
   "id": "dc0dd8cf-09ad-4c64-93f8-5ffa1e1d788f",
   "metadata": {},
   "outputs": [],
   "source": [
    "salaryRegModel4Fit.transformer = salaryRegModel4Transformer"
   ]
  },
  {
   "cell_type": "code",
   "execution_count": null,
   "id": "82a50ac7-4a7a-43a7-af8d-469186fa8ec3",
   "metadata": {},
   "outputs": [],
   "source": [
    "salaryRegModel4Fit.mainPredictor = partial(salaryRegModel1MainPredictor, salaryRegModel4Fit)"
   ]
  },
  {
   "cell_type": "code",
   "execution_count": null,
   "id": "c06b6d49-1eca-4e88-b60d-70598fe56978",
   "metadata": {},
   "outputs": [],
   "source": [
    "test4 = salaryRegModel4Fit.transformer(salaryRegModel2SampleData)\n",
    "test4"
   ]
  },
  {
   "cell_type": "code",
   "execution_count": null,
   "id": "b48345a4-db63-4c44-ac69-39a54bf514e1",
   "metadata": {},
   "outputs": [],
   "source": [
    "salaryRegModel4Fit.mainPredictor(test4)"
   ]
  },
  {
   "cell_type": "code",
   "execution_count": null,
   "id": "dd6e0b4d-a1c3-4624-95e9-e81aefe75432",
   "metadata": {},
   "outputs": [],
   "source": [
    "salaryRegModel4FitMetadata = {\n",
    "    \"modelName\":f\"salaryRegModel4Fit\",\n",
    "    \"version\":\"1.0.1\",\n",
    "    \"params\": salaryRegModel4Fit.params.to_dict(),\n",
    "    \"score\": float(salaryRegModel4Fit.rsquared),\n",
    "    \"modelLibraray\": 'sm.OLS',\n",
    "    \"libraryMetadata\": {\n",
    "        \"pvalues\": salaryRegModel4Fit.pvalues.to_dict(),\n",
    "        \"r_squared\": float(salaryRegModel4Fit.rsquared),\n",
    "        \"adj_r_squared\": float(salaryRegModel4Fit.rsquared_adj)\n",
    "    },\n",
    "\n",
    "    \"sampleData\": {\n",
    "        \"dataForTransfer\": salaryRegModel2SampleData\n",
    "    }\n",
    "}\n",
    "salaryRegModel4FitMetadata"
   ]
  },
  {
   "cell_type": "code",
   "execution_count": null,
   "id": "dadecbfd-e3f7-48e1-84f5-c4263e704410",
   "metadata": {},
   "outputs": [],
   "source": [
    "registerAJrjModel(salaryRegModel4Fit, salaryRegModel4FitMetadata)"
   ]
  },
  {
   "cell_type": "code",
   "execution_count": null,
   "id": "945a2747-7386-452d-90c5-2c1ad183a39b",
   "metadata": {},
   "outputs": [],
   "source": [
    "sallaryMisDf\n"
   ]
  },
  {
   "cell_type": "code",
   "execution_count": null,
   "id": "75f1bf7a-f316-4d48-996a-d6d94b4fddfd",
   "metadata": {},
   "outputs": [],
   "source": []
  },
  {
   "cell_type": "code",
   "execution_count": null,
   "id": "e2bd268e-b80b-4ed2-9bb0-90a03e439228",
   "metadata": {},
   "outputs": [],
   "source": []
  },
  {
   "cell_type": "code",
   "execution_count": null,
   "id": "66a87a71-f543-455e-8018-c48b7c7b49e8",
   "metadata": {},
   "outputs": [],
   "source": []
  }
 ],
 "metadata": {
  "kernelspec": {
   "display_name": "Python 3 (ipykernel)",
   "language": "python",
   "name": "python3"
  },
  "language_info": {
   "codemirror_mode": {
    "name": "ipython",
    "version": 3
   },
   "file_extension": ".py",
   "mimetype": "text/x-python",
   "name": "python",
   "nbconvert_exporter": "python",
   "pygments_lexer": "ipython3",
   "version": "3.13.3"
  }
 },
 "nbformat": 4,
 "nbformat_minor": 5
}
