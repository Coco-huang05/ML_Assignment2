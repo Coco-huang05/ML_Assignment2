{
 "cells": [
  {
   "cell_type": "code",
   "execution_count": null,
   "id": "28b1b1fa-7e2f-47f7-8ac4-c9813513977a",
   "metadata": {},
   "outputs": [],
   "source": [
    "import numpy as np\n",
    "import pandas as pd\n",
    "import matplotlib.pyplot as plt"
   ]
  },
  {
   "cell_type": "code",
   "execution_count": null,
   "id": "666b8aae-2fd0-454b-ae6a-3e62bbae26f9",
   "metadata": {},
   "outputs": [],
   "source": [
    "# https://www.statsmodels.org/stable/index.html\n",
    "import statsmodels.api as sm"
   ]
  },
  {
   "cell_type": "code",
   "execution_count": null,
   "id": "3f3d068d-bafd-45ec-814b-11fc40e9fe4c",
   "metadata": {},
   "outputs": [],
   "source": [
    "import warnings\n",
    "warnings.filterwarnings(\"ignore\")"
   ]
  },
  {
   "cell_type": "code",
   "execution_count": null,
   "id": "3627753f-d279-4ba5-b19f-ebc7f129f605",
   "metadata": {},
   "outputs": [],
   "source": [
    "from functools import partial"
   ]
  },
  {
   "cell_type": "code",
   "execution_count": null,
   "id": "29e01ec0-6e94-4814-82d2-9849e1b9d7b0",
   "metadata": {},
   "outputs": [],
   "source": [
    "from dotenv import load_dotenv\n",
    "\n",
    "from pathlib import Path\n",
    "\n",
    "env_path = Path(\"../../.env-live\")\n",
    "\n",
    "if env_path.exists():\n",
    "    print('envs Loaded')\n",
    "    load_dotenv(dotenv_path=env_path)\n",
    "from jrjModelRegistry.jrjModelRegistry import registerAJrjModel"
   ]
  },
  {
   "cell_type": "markdown",
   "id": "41fd1052-9e68-43a3-bd21-0faf8afe56ce",
   "metadata": {},
   "source": [
    "Download it from [here](https://www.dropbox.com/scl/fi/1sc8ojfezlbrcaje42w0n/College.xlsx?rlkey=i3starhohiwkua8ekbjk3nb92&st=yd75jyvp&dl=0)"
   ]
  },
  {
   "cell_type": "code",
   "execution_count": null,
   "id": "a8273543-e499-438f-8fb1-4028c9ec3bc5",
   "metadata": {},
   "outputs": [],
   "source": [
    "collegeDf = pd.read_excel(\"./College.xlsx\")"
   ]
  },
  {
   "cell_type": "code",
   "execution_count": null,
   "id": "5fb6a2a4-99e0-45ae-8131-c3fd277c1135",
   "metadata": {},
   "outputs": [],
   "source": [
    "collegeDf.head()"
   ]
  },
  {
   "cell_type": "code",
   "execution_count": null,
   "id": "765cdfb0-a5e7-4049-b295-1b2979dca439",
   "metadata": {},
   "outputs": [],
   "source": [
    "collegeDf.tail()"
   ]
  },
  {
   "cell_type": "code",
   "execution_count": null,
   "id": "980ab762-7ece-49e7-8260-1aa437207834",
   "metadata": {},
   "outputs": [],
   "source": [
    "collegeDf.shape"
   ]
  },
  {
   "cell_type": "code",
   "execution_count": null,
   "id": "56966533-dbf5-434f-89b6-fe14970a78ee",
   "metadata": {},
   "outputs": [],
   "source": [
    "collegeDf.size"
   ]
  },
  {
   "cell_type": "code",
   "execution_count": null,
   "id": "8ad61d1c-c79b-408b-875c-664d002ee8e7",
   "metadata": {},
   "outputs": [],
   "source": [
    "collegeDf.describe()"
   ]
  },
  {
   "cell_type": "code",
   "execution_count": null,
   "id": "c4fe6a58-6e37-499c-92e4-a42279681541",
   "metadata": {},
   "outputs": [],
   "source": [
    "# Plotting\n",
    "plt.figure(\n",
    "  figsize=(8, 8)\n",
    ")\n",
    "\n",
    "plt.scatter(\n",
    "  collegeDf[\"Cost\"],\n",
    "  collegeDf[\"Earnings\"],\n",
    "  color='blue',\n",
    "  alpha=0.9,\n",
    "  label='Data Points - scatter',\n",
    ")\n",
    "\n",
    "plt.xlabel('Cost')\n",
    "plt.ylabel('Earnings')\n",
    "plt.legend()\n",
    "plt.grid(True)\n",
    "\n",
    "\n",
    "\n",
    "plt.show()"
   ]
  },
  {
   "cell_type": "code",
   "execution_count": null,
   "id": "c7ae2f25-aa36-434b-b28f-493f536e19e4",
   "metadata": {},
   "outputs": [],
   "source": [
    "sm.add_constant(collegeDf['Cost']), type(sm.add_constant(collegeDf['Cost']))"
   ]
  },
  {
   "cell_type": "code",
   "execution_count": null,
   "id": "27919b00-25cc-4c63-a804-9f74ca25b52c",
   "metadata": {},
   "outputs": [],
   "source": [
    "earningOthersOlsModelFit1 = sm.OLS(\n",
    "  collegeDf[\"Earnings\"],\n",
    "  sm.add_constant(collegeDf['Cost'])\n",
    ").fit()"
   ]
  },
  {
   "cell_type": "code",
   "execution_count": null,
   "id": "619a3dd4-5458-47c4-9281-17c0ed149ba3",
   "metadata": {},
   "outputs": [],
   "source": [
    "print(earningOthersOlsModelFit1.summary())"
   ]
  },
  {
   "cell_type": "code",
   "execution_count": null,
   "id": "50af9d2d-874f-4bfe-bba7-3b6e2c0ca3de",
   "metadata": {},
   "outputs": [],
   "source": [
    "predictedEarning1 = earningOthersOlsModelFit1.predict(sm.add_constant(collegeDf[\"Cost\"]))\n",
    "collegeDf['predictedEarning1'] = predictedEarning1\n",
    "collegeDf"
   ]
  },
  {
   "cell_type": "code",
   "execution_count": null,
   "id": "1e23f7ed-6396-42d2-bb1c-b9da549bae3c",
   "metadata": {},
   "outputs": [],
   "source": [
    "plt.figure(\n",
    "  figsize=(8, 8)\n",
    ")\n",
    "\n",
    "plt.scatter(\n",
    "  collegeDf[\"Cost\"],\n",
    "  collegeDf[\"Earnings\"],\n",
    "  color='blue',\n",
    "  alpha=0.9,\n",
    "  label='Data Points - scatter',\n",
    ")\n",
    "\n",
    "\n",
    "plt.plot(\n",
    "  collegeDf[\"Cost\"],\n",
    "  collegeDf[\"predictedEarning1\"],\n",
    "  color='red',\n",
    "  label='OLS 1'\n",
    ")\n",
    "\n",
    "plt.legend()\n",
    "\n",
    "plt.show()"
   ]
  },
  {
   "cell_type": "code",
   "execution_count": null,
   "id": "25ac2de5-75fd-407c-a5c4-b98548cedc82",
   "metadata": {},
   "outputs": [],
   "source": [
    "earningOthersOlsModelFit1SampleData = {\n",
    "    \"Cost\": [22920, 23429]\n",
    "}"
   ]
  },
  {
   "cell_type": "code",
   "execution_count": null,
   "id": "9cf3a59c-692d-4428-bbf4-cc415466dbbd",
   "metadata": {},
   "outputs": [],
   "source": [
    "def earningOthersOlsModelFit1Transformer(dataForTransfer = None):\n",
    "    import pandas as pd\n",
    "    import statsmodels.api as sm\n",
    "    dfTransformer = pd.DataFrame(dataForTransfer)\n",
    "    dfTransformer = sm.add_constant(dfTransformer[['Cost']])\n",
    "    return dfTransformer"
   ]
  },
  {
   "cell_type": "code",
   "execution_count": null,
   "id": "fd443654-9cee-4b74-97ba-e92a2d643f11",
   "metadata": {},
   "outputs": [],
   "source": [
    "earningOthersOlsModelFit1SampleTransformed = earningOthersOlsModelFit1Transformer(earningOthersOlsModelFit1SampleData)\n",
    "earningOthersOlsModelFit1SampleTransformed"
   ]
  },
  {
   "cell_type": "code",
   "execution_count": null,
   "id": "2cc74332-1999-4920-abaf-3355342b4c19",
   "metadata": {},
   "outputs": [],
   "source": [
    "earningOthersOlsModelFit1Predict = earningOthersOlsModelFit1.predict(earningOthersOlsModelFit1SampleTransformed)\n",
    "earningOthersOlsModelFit1Predict"
   ]
  },
  {
   "cell_type": "code",
   "execution_count": null,
   "id": "c1285210-91fc-420d-8e46-07b913632ae3",
   "metadata": {},
   "outputs": [],
   "source": [
    "def earningOthersOlsModelFit1MainPredictor(self, transformedData):\n",
    "    return self.predict(transformedData)\n"
   ]
  },
  {
   "cell_type": "code",
   "execution_count": null,
   "id": "7d44b78b-f0ca-42cc-83fb-575704174194",
   "metadata": {},
   "outputs": [],
   "source": [
    "earningOthersOlsModelFit1.mainPredictor = partial(earningOthersOlsModelFit1MainPredictor, earningOthersOlsModelFit1)\n",
    "earningOthersOlsModelFit1.transformer = earningOthersOlsModelFit1Transformer"
   ]
  },
  {
   "cell_type": "code",
   "execution_count": null,
   "id": "538a8da1-bc82-4c2d-8755-d1f83c7c77d9",
   "metadata": {},
   "outputs": [],
   "source": [
    "test1 = earningOthersOlsModelFit1.transformer(earningOthersOlsModelFit1SampleData)\n",
    "test1"
   ]
  },
  {
   "cell_type": "code",
   "execution_count": null,
   "id": "28930294-3a90-4e16-8476-69a954ae4313",
   "metadata": {},
   "outputs": [],
   "source": [
    "earningOthersOlsModelFit1.mainPredictor(test1)"
   ]
  },
  {
   "cell_type": "code",
   "execution_count": null,
   "id": "a19b8f0f-80a6-4762-a25d-80325a94f212",
   "metadata": {},
   "outputs": [],
   "source": [
    "earningOthersOlsModelFit1Metadata = {\n",
    "    \"modelName\":f\"earningOthersOlsModelFit1\",\n",
    "    \"version\":\"1.0.1\",\n",
    "    \"params\": earningOthersOlsModelFit1.params.to_dict(),\n",
    "    \"score\": float(earningOthersOlsModelFit1.rsquared),\n",
    "    \"modelLibraray\": 'sm.OLS',\n",
    "    \"libraryMetadata\": {\n",
    "        \"pvalues\": earningOthersOlsModelFit1.pvalues.to_dict(),\n",
    "        \"r_squared\": float(earningOthersOlsModelFit1.rsquared),\n",
    "        \"adj_r_squared\": float(earningOthersOlsModelFit1.rsquared_adj)\n",
    "    },\n",
    "\n",
    "    \"sampleData\": {\n",
    "        \"dataForTransfer\": earningOthersOlsModelFit1SampleData\n",
    "    }\n",
    "}\n",
    "earningOthersOlsModelFit1Metadata"
   ]
  },
  {
   "cell_type": "code",
   "execution_count": null,
   "id": "f7157cf0-f715-40b6-92d8-69b6dfc2560d",
   "metadata": {},
   "outputs": [],
   "source": [
    "registerAJrjModel(earningOthersOlsModelFit1, earningOthersOlsModelFit1Metadata)"
   ]
  },
  {
   "cell_type": "code",
   "execution_count": null,
   "id": "3f8046b9-9887-403b-a965-3f0ab8525c5f",
   "metadata": {},
   "outputs": [],
   "source": [
    "collegeDf"
   ]
  },
  {
   "cell_type": "code",
   "execution_count": null,
   "id": "a1404f1c-d359-431f-a8b9-2a790860adad",
   "metadata": {},
   "outputs": [],
   "source": [
    "fig = plt.figure()\n",
    "ax = plt.axes(projection =\"3d\")\n",
    "\n",
    "# Creating plot\n",
    "ax.scatter3D(\n",
    "  collegeDf[\"Cost\"],\n",
    "  collegeDf[\"Grad\"],\n",
    "  collegeDf[\"Earnings\"],\n",
    "  color = \"green\"\n",
    ")\n",
    "plt.title(\"Cost,Grad -> Earnings\")\n",
    "ax.set_xlabel('Cost')\n",
    "ax.set_ylabel('Grad')\n",
    "ax.set_zlabel('Earnings')\n",
    "\n",
    "# show plot\n",
    "plt.show()"
   ]
  },
  {
   "cell_type": "code",
   "execution_count": null,
   "id": "50dfc0d4-ccc1-4959-8e20-1d4d0ec37237",
   "metadata": {},
   "outputs": [],
   "source": [
    "collegeDf[['Cost', 'Grad']], type(collegeDf[['Cost', 'Grad']])"
   ]
  },
  {
   "cell_type": "code",
   "execution_count": null,
   "id": "6b4f23da-e91f-4c5c-97d5-112c33fb99da",
   "metadata": {},
   "outputs": [],
   "source": [
    "sm.add_constant(collegeDf[['Cost', 'Grad']]), type(sm.add_constant(collegeDf[['Cost', 'Grad']]))"
   ]
  },
  {
   "cell_type": "code",
   "execution_count": null,
   "id": "261de2c1-7506-41d8-ab47-028340858b40",
   "metadata": {},
   "outputs": [],
   "source": [
    "earningOthersOlsModelFit2 = sm.OLS(\n",
    "  collegeDf[\"Earnings\"],\n",
    "  sm.add_constant(collegeDf[['Cost', 'Grad']])\n",
    ").fit()"
   ]
  },
  {
   "cell_type": "code",
   "execution_count": null,
   "id": "6467f99f-0efb-4a9d-98f9-fa6f2d736999",
   "metadata": {},
   "outputs": [],
   "source": [
    "print(earningOthersOlsModelFit2.summary())"
   ]
  },
  {
   "cell_type": "code",
   "execution_count": null,
   "id": "e56c3b8c-3995-4a6a-94f1-86dbca3243fe",
   "metadata": {},
   "outputs": [],
   "source": [
    "predictedEarning2 = earningOthersOlsModelFit2.predict(\n",
    "  sm.add_constant(collegeDf[['Cost', 'Grad']])\n",
    ")\n",
    "collegeDf['predictedEarning2'] = predictedEarning2\n",
    "collegeDf"
   ]
  },
  {
   "cell_type": "code",
   "execution_count": null,
   "id": "4b0fdf2e-6aa9-4c66-9cae-0cc56e1ba92b",
   "metadata": {},
   "outputs": [],
   "source": [
    "# Extracting coefficients\n",
    "intercept = earningOthersOlsModelFit2.params['const']\n",
    "coef_cost = earningOthersOlsModelFit2.params['Cost']\n",
    "coef_grad = earningOthersOlsModelFit2.params['Grad']\n",
    "\n",
    "# Create 3D grid for plotting\n",
    "cost_range = np.linspace(collegeDf['Cost'].min(), collegeDf['Cost'].max(), 100)\n",
    "grad_range = np.linspace(collegeDf['Grad'].min(), collegeDf['Grad'].max(), 100)\n",
    "cost_grid, grad_grid = np.meshgrid(cost_range, grad_range)\n",
    "\n",
    "# Calculate predicted earnings for each combination of cost and grad\n",
    "earnings_predicted = intercept + coef_cost * cost_grid + coef_grad * grad_grid\n",
    "\n",
    "\n",
    "\n",
    "\n",
    "fig = plt.figure()\n",
    "ax = plt.axes(projection =\"3d\")\n",
    "\n",
    "# Scatter plot of the actual data points\n",
    "ax.scatter(collegeDf['Cost'], collegeDf['Grad'], collegeDf['Earnings'], color='blue', label='Actual Earnings')\n",
    "\n",
    "# Plotting the fitted plane\n",
    "ax.plot_surface(cost_grid, grad_grid, earnings_predicted, color='red', alpha=0.5, label='Fitted Plane')\n",
    "\n",
    "# Labeling axes\n",
    "ax.set_xlabel('Cost')\n",
    "ax.set_ylabel('Grad')\n",
    "ax.set_zlabel('Earnings')\n",
    "\n",
    "\n",
    "\n",
    "plt.title('Cost and Grad vs. Earnings with Fitted Plane')\n",
    "\n",
    "# Rotating the plot\n",
    "# ax.view_init(elev=0, azim=0)  # Set the elevation and azimuth angles\n",
    "plt.show()"
   ]
  },
  {
   "cell_type": "code",
   "execution_count": null,
   "id": "84a806f5-126b-4a2a-aa9f-6d20c54c5c7f",
   "metadata": {},
   "outputs": [],
   "source": [
    "collegeDf"
   ]
  },
  {
   "cell_type": "code",
   "execution_count": null,
   "id": "617aa5d9-b77b-4562-bd8b-afe94a72ac1a",
   "metadata": {},
   "outputs": [],
   "source": [
    "earningOthersOlsModelFit2SampleData = {\n",
    "    \"Cost\": [22920, 23429],\n",
    "    \"Grad\": [62, 88]\n",
    "}"
   ]
  },
  {
   "cell_type": "code",
   "execution_count": null,
   "id": "7eeb74f5-8bd4-4a69-a0b1-a3c267db87d9",
   "metadata": {},
   "outputs": [],
   "source": [
    "def earningOthersOlsModelFit2Transformer(dataForTransfer = None):\n",
    "    import pandas as pd\n",
    "    import statsmodels.api as sm\n",
    "    dfTransformer = pd.DataFrame(dataForTransfer)\n",
    "    dfTransformer = sm.add_constant(dfTransformer[['Cost', 'Grad']])\n",
    "    return dfTransformer"
   ]
  },
  {
   "cell_type": "code",
   "execution_count": null,
   "id": "11d5012e-727b-4378-811a-cc41e2914c7d",
   "metadata": {},
   "outputs": [],
   "source": [
    "earningOthersOlsModelFit2SampleTransformed = earningOthersOlsModelFit2Transformer(earningOthersOlsModelFit2SampleData)\n",
    "earningOthersOlsModelFit2SampleTransformed"
   ]
  },
  {
   "cell_type": "code",
   "execution_count": null,
   "id": "c3e89752-e758-4cab-8239-b872e265d5e9",
   "metadata": {},
   "outputs": [],
   "source": [
    "earningOthersOlsModelFit2Predict = earningOthersOlsModelFit2.predict(earningOthersOlsModelFit2SampleTransformed)\n",
    "earningOthersOlsModelFit2Predict"
   ]
  },
  {
   "cell_type": "code",
   "execution_count": null,
   "id": "f1b0d7fc-55da-497e-afc3-e637bfb71cf3",
   "metadata": {},
   "outputs": [],
   "source": [
    "def earningOthersOlsModelFit2MainPredictor(self, transformedData):\n",
    "    return self.predict(transformedData)\n"
   ]
  },
  {
   "cell_type": "code",
   "execution_count": null,
   "id": "ae3e0ddf-27cd-4841-8ebd-f192c28878dd",
   "metadata": {},
   "outputs": [],
   "source": [
    "earningOthersOlsModelFit2.mainPredictor = partial(earningOthersOlsModelFit2MainPredictor, earningOthersOlsModelFit2)\n",
    "earningOthersOlsModelFit2.transformer = earningOthersOlsModelFit2Transformer"
   ]
  },
  {
   "cell_type": "code",
   "execution_count": null,
   "id": "142b553a-655d-40ef-a272-56e2e5ab0753",
   "metadata": {},
   "outputs": [],
   "source": [
    "test2 = earningOthersOlsModelFit2.transformer(earningOthersOlsModelFit2SampleData)\n",
    "test2"
   ]
  },
  {
   "cell_type": "code",
   "execution_count": null,
   "id": "54c791af-8f5a-4838-a536-e8797cab2a71",
   "metadata": {},
   "outputs": [],
   "source": [
    "earningOthersOlsModelFit2.mainPredictor(test2)"
   ]
  },
  {
   "cell_type": "code",
   "execution_count": null,
   "id": "072b9f57-30bd-435a-a71f-20daff301133",
   "metadata": {},
   "outputs": [],
   "source": [
    "earningOthersOlsModelFit2Metadata = {\n",
    "    \"modelName\":f\"earningOthersOlsModelFit2\",\n",
    "    \"version\":\"1.0.1\",\n",
    "    \"params\": earningOthersOlsModelFit2.params.to_dict(),\n",
    "    \"score\": float(earningOthersOlsModelFit2.rsquared),\n",
    "    \"modelLibraray\": 'sm.OLS',\n",
    "    \"libraryMetadata\": {\n",
    "        \"pvalues\": earningOthersOlsModelFit2.pvalues.to_dict(),\n",
    "        \"r_squared\": float(earningOthersOlsModelFit2.rsquared),\n",
    "        \"adj_r_squared\": float(earningOthersOlsModelFit2.rsquared_adj)\n",
    "    },\n",
    "\n",
    "    \"sampleData\": {\n",
    "        \"dataForTransfer\": earningOthersOlsModelFit2SampleData\n",
    "    }\n",
    "}\n",
    "earningOthersOlsModelFit2Metadata"
   ]
  },
  {
   "cell_type": "code",
   "execution_count": null,
   "id": "51adab9e-1c20-4073-b47e-dfeff8d73b87",
   "metadata": {},
   "outputs": [],
   "source": [
    "registerAJrjModel(earningOthersOlsModelFit2, earningOthersOlsModelFit2Metadata)"
   ]
  },
  {
   "cell_type": "code",
   "execution_count": null,
   "id": "3adfda18-091c-4d93-9bde-6c559f85d26f",
   "metadata": {},
   "outputs": [],
   "source": [
    "earningOthersOlsModelFit3 = sm.OLS(\n",
    "  collegeDf[\"Earnings\"],\n",
    "  sm.add_constant(collegeDf[['Cost', 'Grad','Debt']])\n",
    ").fit()"
   ]
  },
  {
   "cell_type": "code",
   "execution_count": null,
   "id": "f51f11ed-bad8-45ba-b251-47ace60fde64",
   "metadata": {},
   "outputs": [],
   "source": [
    "print(earningOthersOlsModelFit3.summary())"
   ]
  },
  {
   "cell_type": "code",
   "execution_count": null,
   "id": "c5804122-dae3-49a8-8ab2-bc848ff2cd27",
   "metadata": {},
   "outputs": [],
   "source": [
    "print(earningOthersOlsModelFit2.summary())"
   ]
  },
  {
   "cell_type": "code",
   "execution_count": null,
   "id": "c0cbb452-12c8-4cfd-86ad-06976f4a5f88",
   "metadata": {},
   "outputs": [],
   "source": [
    "predictedEarning3 = earningOthersOlsModelFit3.predict(\n",
    "  sm.add_constant(collegeDf[['Cost', 'Grad', 'Debt']])\n",
    ")\n",
    "collegeDf['predictedEarning3'] = predictedEarning3\n",
    "collegeDf"
   ]
  },
  {
   "cell_type": "code",
   "execution_count": null,
   "id": "dd708d2b-3c7e-408c-9645-9d71c6890d85",
   "metadata": {},
   "outputs": [],
   "source": [
    "earningOthersOlsModelFit3SampleData = {\n",
    "    \"Cost\": [22920, 23429],\n",
    "    \"Grad\": [62, 88],\n",
    "    \"Debt\": [88,92]\n",
    "}"
   ]
  },
  {
   "cell_type": "code",
   "execution_count": null,
   "id": "d0b95149-7d50-4ae8-9684-0b5c85b17cb2",
   "metadata": {},
   "outputs": [],
   "source": [
    "def earningOthersOlsModelFit3Transformer(dataForTransfer = None):\n",
    "    import pandas as pd\n",
    "    import statsmodels.api as sm\n",
    "    dfTransformer = pd.DataFrame(dataForTransfer)\n",
    "    dfTransformer = sm.add_constant(dfTransformer[['Cost', 'Grad', 'Debt']])\n",
    "    return dfTransformer"
   ]
  },
  {
   "cell_type": "code",
   "execution_count": null,
   "id": "dc399128-7467-4cd5-a0d0-d2b87af7d6f7",
   "metadata": {},
   "outputs": [],
   "source": [
    "earningOthersOlsModelFit3SampleTransformed = earningOthersOlsModelFit3Transformer(earningOthersOlsModelFit3SampleData)\n",
    "earningOthersOlsModelFit3SampleTransformed"
   ]
  },
  {
   "cell_type": "code",
   "execution_count": null,
   "id": "c04a1a0a-05d5-4e90-98a7-656bd4e245cf",
   "metadata": {},
   "outputs": [],
   "source": [
    "earningOthersOlsModelFit3Predict = earningOthersOlsModelFit3.predict(earningOthersOlsModelFit3SampleTransformed)\n",
    "earningOthersOlsModelFit3Predict"
   ]
  },
  {
   "cell_type": "code",
   "execution_count": null,
   "id": "7fefec31-1ce2-48b7-9414-4d90fbbbd24f",
   "metadata": {},
   "outputs": [],
   "source": [
    "def earningOthersOlsModelFit3MainPredictor(self, transformedData):\n",
    "    return self.predict(transformedData)"
   ]
  },
  {
   "cell_type": "code",
   "execution_count": null,
   "id": "46f9a958-2b28-443f-a467-ee1ed9c671e5",
   "metadata": {},
   "outputs": [],
   "source": [
    "earningOthersOlsModelFit3.mainPredictor = partial(earningOthersOlsModelFit3MainPredictor, earningOthersOlsModelFit3)\n",
    "earningOthersOlsModelFit3.transformer = earningOthersOlsModelFit3Transformer"
   ]
  },
  {
   "cell_type": "code",
   "execution_count": null,
   "id": "794313ed-640c-4b6f-a6c4-575d16ea902a",
   "metadata": {},
   "outputs": [],
   "source": [
    "test3 = earningOthersOlsModelFit3.transformer(earningOthersOlsModelFit3SampleData)\n",
    "test3"
   ]
  },
  {
   "cell_type": "code",
   "execution_count": null,
   "id": "7b5a5e5b-7712-49d5-a662-86498d42ccac",
   "metadata": {},
   "outputs": [],
   "source": [
    "earningOthersOlsModelFit3.mainPredictor(test3)"
   ]
  },
  {
   "cell_type": "code",
   "execution_count": null,
   "id": "afe1019b-d42e-4d96-8713-495ac1ea4b60",
   "metadata": {},
   "outputs": [],
   "source": [
    "earningOthersOlsModelFit3Metadata = {\n",
    "    \"modelName\":f\"earningOthersOlsModelFit3\",\n",
    "    \"version\":\"1.0.1\",\n",
    "    \"params\": earningOthersOlsModelFit3.params.to_dict(),\n",
    "    \"score\": float(earningOthersOlsModelFit3.rsquared),\n",
    "    \"modelLibraray\": 'sm.OLS',\n",
    "    \"libraryMetadata\": {\n",
    "        \"pvalues\": earningOthersOlsModelFit3.pvalues.to_dict(),\n",
    "        \"r_squared\": float(earningOthersOlsModelFit3.rsquared),\n",
    "        \"adj_r_squared\": float(earningOthersOlsModelFit3.rsquared_adj)\n",
    "    },\n",
    "\n",
    "    \"sampleData\": {\n",
    "        \"dataForTransfer\": earningOthersOlsModelFit3SampleData\n",
    "    }\n",
    "}\n",
    "earningOthersOlsModelFit3Metadata"
   ]
  },
  {
   "cell_type": "code",
   "execution_count": null,
   "id": "c49b2ed8-5a65-4719-afe6-748c4b492b14",
   "metadata": {},
   "outputs": [],
   "source": [
    "registerAJrjModel(earningOthersOlsModelFit3, earningOthersOlsModelFit3Metadata)"
   ]
  },
  {
   "cell_type": "code",
   "execution_count": null,
   "id": "ea5ef54f-2ae7-414e-a947-1b908df6b31a",
   "metadata": {},
   "outputs": [],
   "source": []
  }
 ],
 "metadata": {
  "kernelspec": {
   "display_name": "Python 3 (ipykernel)",
   "language": "python",
   "name": "python3"
  },
  "language_info": {
   "codemirror_mode": {
    "name": "ipython",
    "version": 3
   },
   "file_extension": ".py",
   "mimetype": "text/x-python",
   "name": "python",
   "nbconvert_exporter": "python",
   "pygments_lexer": "ipython3",
   "version": "3.13.3"
  }
 },
 "nbformat": 4,
 "nbformat_minor": 5
}
